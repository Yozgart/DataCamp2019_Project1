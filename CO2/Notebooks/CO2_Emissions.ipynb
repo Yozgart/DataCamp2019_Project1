{
 "cells": [
  {
   "cell_type": "code",
   "execution_count": 1,
   "metadata": {},
   "outputs": [],
   "source": [
    "# Dependencies\n",
    "import matplotlib.pyplot as plt\n",
    "import numpy as np\n",
    "import pandas as pd"
   ]
  },
  {
   "cell_type": "code",
   "execution_count": 2,
   "metadata": {},
   "outputs": [
    {
     "data": {
      "text/html": [
       "<div>\n",
       "<style scoped>\n",
       "    .dataframe tbody tr th:only-of-type {\n",
       "        vertical-align: middle;\n",
       "    }\n",
       "\n",
       "    .dataframe tbody tr th {\n",
       "        vertical-align: top;\n",
       "    }\n",
       "\n",
       "    .dataframe thead th {\n",
       "        text-align: right;\n",
       "    }\n",
       "</style>\n",
       "<table border=\"1\" class=\"dataframe\">\n",
       "  <thead>\n",
       "    <tr style=\"text-align: right;\">\n",
       "      <th></th>\n",
       "      <th>Year</th>\n",
       "      <th>Country</th>\n",
       "      <th>Total</th>\n",
       "      <th>Solid Fuel</th>\n",
       "      <th>Liquid Fuel</th>\n",
       "      <th>Gas Fuel</th>\n",
       "      <th>Cement</th>\n",
       "      <th>Gas Flaring</th>\n",
       "      <th>Per Capita</th>\n",
       "      <th>Bunker fuels (Not in Total)</th>\n",
       "    </tr>\n",
       "  </thead>\n",
       "  <tbody>\n",
       "    <tr>\n",
       "      <th>0</th>\n",
       "      <td>1751</td>\n",
       "      <td>UNITED KINGDOM</td>\n",
       "      <td>2552</td>\n",
       "      <td>2552</td>\n",
       "      <td>0</td>\n",
       "      <td>0</td>\n",
       "      <td>0</td>\n",
       "      <td>0</td>\n",
       "      <td>0.0</td>\n",
       "      <td>0</td>\n",
       "    </tr>\n",
       "    <tr>\n",
       "      <th>1</th>\n",
       "      <td>1752</td>\n",
       "      <td>UNITED KINGDOM</td>\n",
       "      <td>2553</td>\n",
       "      <td>2553</td>\n",
       "      <td>0</td>\n",
       "      <td>0</td>\n",
       "      <td>0</td>\n",
       "      <td>0</td>\n",
       "      <td>0.0</td>\n",
       "      <td>0</td>\n",
       "    </tr>\n",
       "    <tr>\n",
       "      <th>2</th>\n",
       "      <td>1753</td>\n",
       "      <td>UNITED KINGDOM</td>\n",
       "      <td>2553</td>\n",
       "      <td>2553</td>\n",
       "      <td>0</td>\n",
       "      <td>0</td>\n",
       "      <td>0</td>\n",
       "      <td>0</td>\n",
       "      <td>0.0</td>\n",
       "      <td>0</td>\n",
       "    </tr>\n",
       "    <tr>\n",
       "      <th>3</th>\n",
       "      <td>1754</td>\n",
       "      <td>UNITED KINGDOM</td>\n",
       "      <td>2554</td>\n",
       "      <td>2554</td>\n",
       "      <td>0</td>\n",
       "      <td>0</td>\n",
       "      <td>0</td>\n",
       "      <td>0</td>\n",
       "      <td>0.0</td>\n",
       "      <td>0</td>\n",
       "    </tr>\n",
       "    <tr>\n",
       "      <th>4</th>\n",
       "      <td>1755</td>\n",
       "      <td>UNITED KINGDOM</td>\n",
       "      <td>2555</td>\n",
       "      <td>2555</td>\n",
       "      <td>0</td>\n",
       "      <td>0</td>\n",
       "      <td>0</td>\n",
       "      <td>0</td>\n",
       "      <td>0.0</td>\n",
       "      <td>0</td>\n",
       "    </tr>\n",
       "  </tbody>\n",
       "</table>\n",
       "</div>"
      ],
      "text/plain": [
       "   Year         Country  Total  Solid Fuel  Liquid Fuel  Gas Fuel  Cement  \\\n",
       "0  1751  UNITED KINGDOM   2552        2552            0         0       0   \n",
       "1  1752  UNITED KINGDOM   2553        2553            0         0       0   \n",
       "2  1753  UNITED KINGDOM   2553        2553            0         0       0   \n",
       "3  1754  UNITED KINGDOM   2554        2554            0         0       0   \n",
       "4  1755  UNITED KINGDOM   2555        2555            0         0       0   \n",
       "\n",
       "   Gas Flaring  Per Capita  Bunker fuels (Not in Total)  \n",
       "0            0         0.0                            0  \n",
       "1            0         0.0                            0  \n",
       "2            0         0.0                            0  \n",
       "3            0         0.0                            0  \n",
       "4            0         0.0                            0  "
      ]
     },
     "execution_count": 2,
     "metadata": {},
     "output_type": "execute_result"
    }
   ],
   "source": [
    "#Read Dataset\n",
    "csv_path = '../Resources/fossil-fuel-co2-emissions-by-nation.csv'\n",
    "data = pd.read_csv(csv_path)\n",
    "\n",
    "data.head()"
   ]
  },
  {
   "cell_type": "markdown",
   "metadata": {},
   "source": [
    "# Cleaning data:"
   ]
  },
  {
   "cell_type": "code",
   "execution_count": 3,
   "metadata": {},
   "outputs": [
    {
     "data": {
      "text/html": [
       "<div>\n",
       "<style scoped>\n",
       "    .dataframe tbody tr th:only-of-type {\n",
       "        vertical-align: middle;\n",
       "    }\n",
       "\n",
       "    .dataframe tbody tr th {\n",
       "        vertical-align: top;\n",
       "    }\n",
       "\n",
       "    .dataframe thead th {\n",
       "        text-align: right;\n",
       "    }\n",
       "</style>\n",
       "<table border=\"1\" class=\"dataframe\">\n",
       "  <thead>\n",
       "    <tr style=\"text-align: right;\">\n",
       "      <th></th>\n",
       "      <th>Year</th>\n",
       "      <th>Country</th>\n",
       "      <th>Total</th>\n",
       "      <th>Solid Fuel</th>\n",
       "      <th>Liquid Fuel</th>\n",
       "      <th>Gas Fuel</th>\n",
       "      <th>Cement</th>\n",
       "      <th>Gas Flaring</th>\n",
       "      <th>Per Capita</th>\n",
       "      <th>Bunker fuels (Not in Total)</th>\n",
       "    </tr>\n",
       "  </thead>\n",
       "  <tbody>\n",
       "    <tr>\n",
       "      <th>6352</th>\n",
       "      <td>1960</td>\n",
       "      <td>afghanistan</td>\n",
       "      <td>113</td>\n",
       "      <td>35</td>\n",
       "      <td>74</td>\n",
       "      <td>0</td>\n",
       "      <td>5</td>\n",
       "      <td>0</td>\n",
       "      <td>0.01</td>\n",
       "      <td>0</td>\n",
       "    </tr>\n",
       "    <tr>\n",
       "      <th>6353</th>\n",
       "      <td>1960</td>\n",
       "      <td>albania</td>\n",
       "      <td>552</td>\n",
       "      <td>89</td>\n",
       "      <td>430</td>\n",
       "      <td>23</td>\n",
       "      <td>10</td>\n",
       "      <td>0</td>\n",
       "      <td>0.34</td>\n",
       "      <td>0</td>\n",
       "    </tr>\n",
       "    <tr>\n",
       "      <th>6354</th>\n",
       "      <td>1960</td>\n",
       "      <td>algeria</td>\n",
       "      <td>1680</td>\n",
       "      <td>343</td>\n",
       "      <td>1193</td>\n",
       "      <td>0</td>\n",
       "      <td>144</td>\n",
       "      <td>0</td>\n",
       "      <td>0.16</td>\n",
       "      <td>438</td>\n",
       "    </tr>\n",
       "    <tr>\n",
       "      <th>6355</th>\n",
       "      <td>1960</td>\n",
       "      <td>angola</td>\n",
       "      <td>150</td>\n",
       "      <td>34</td>\n",
       "      <td>95</td>\n",
       "      <td>0</td>\n",
       "      <td>22</td>\n",
       "      <td>0</td>\n",
       "      <td>0.03</td>\n",
       "      <td>41</td>\n",
       "    </tr>\n",
       "    <tr>\n",
       "      <th>6356</th>\n",
       "      <td>1960</td>\n",
       "      <td>antigua and barbuda</td>\n",
       "      <td>10</td>\n",
       "      <td>0</td>\n",
       "      <td>10</td>\n",
       "      <td>0</td>\n",
       "      <td>0</td>\n",
       "      <td>0</td>\n",
       "      <td>0.18</td>\n",
       "      <td>0</td>\n",
       "    </tr>\n",
       "  </tbody>\n",
       "</table>\n",
       "</div>"
      ],
      "text/plain": [
       "      Year              Country  Total  Solid Fuel  Liquid Fuel  Gas Fuel  \\\n",
       "6352  1960          afghanistan    113          35           74         0   \n",
       "6353  1960              albania    552          89          430        23   \n",
       "6354  1960              algeria   1680         343         1193         0   \n",
       "6355  1960               angola    150          34           95         0   \n",
       "6356  1960  antigua and barbuda     10           0           10         0   \n",
       "\n",
       "      Cement  Gas Flaring  Per Capita  Bunker fuels (Not in Total)  \n",
       "6352       5            0        0.01                            0  \n",
       "6353      10            0        0.34                            0  \n",
       "6354     144            0        0.16                          438  \n",
       "6355      22            0        0.03                           41  \n",
       "6356       0            0        0.18                            0  "
      ]
     },
     "execution_count": 3,
     "metadata": {},
     "output_type": "execute_result"
    }
   ],
   "source": [
    "#Lowering case for 'Country' column\n",
    "data['Country'] = data['Country'].str.lower()\n",
    "\n",
    "#We'll use data from 1960 and over\n",
    "data = data.loc[data.Year > 1959]\n",
    "\n",
    "#We have to clean all the parentheses from the Country collumn\n",
    "data ['Country'] = data['Country'].str.replace(r\"\\s+\\(.*\\)\",\"\")\n",
    "data ['Country'] = data['Country'].str.replace(r\"&\",\"and\")\n",
    "\n",
    "#Clean and standarize country names:\n",
    "data['Country'] = data['Country'].str.replace(r\"plurinational state of bolivia\",\"bolivia\")\n",
    "data['Country'] = data['Country'].str.replace(r\"brunei\",\"brunei darussalam\")\n",
    "data['Country'] = data['Country'].str.replace(r\"republic of cameroon\",\"cameroon\")\n",
    "data['Country'] = data['Country'].str.replace(r\"guinea bissau\",\"guinea-bissau\")\n",
    "data['Country'] = data['Country'].str.replace(r\"islamic republic of iran\",\"iran\")\n",
    "data['Country'] = data['Country'].str.replace(r\"libyan arab jamahiriyah\",\"libya\")\n",
    "data['Country'] = data['Country'].str.replace(r\"st. kitts-nevis\",\"saint kitts and nevis\")\n",
    "data['Country'] = data['Country'].str.replace(r\"russian federation\",\"russia\")\n",
    "data['Country'] = data['Country'].str.replace(r\"st. vincent and the grenadines\",\"saint vincent and the grenadines\")\n",
    "data['Country'] = data['Country'].str.replace(r\"republic of south sudan\",\"south sudan\")\n",
    "data['Country'] = data['Country'].str.replace(r\"syrian arab republic\",\"syria\")\n",
    "data['Country'] = data['Country'].str.replace(r\"macedonia\",\"the former yugoslav republic of macedonia\")\n",
    "data['Country'] = data['Country'].str.replace(r\"timor-leste\",\"timor leste\")\n",
    "data['Country'] = data['Country'].str.replace(r\"united states of america\",\"united states\")\n",
    "\n",
    "#Reset Index\n",
    "data.reset_index()\n",
    "\n",
    "data.head()\n",
    "\n",
    "#data['Country'].nunique()"
   ]
  },
  {
   "cell_type": "markdown",
   "metadata": {},
   "source": [
    "We will only focus on countries that are members of the ONU."
   ]
  },
  {
   "cell_type": "code",
   "execution_count": 4,
   "metadata": {},
   "outputs": [
    {
     "data": {
      "text/html": [
       "<div>\n",
       "<style scoped>\n",
       "    .dataframe tbody tr th:only-of-type {\n",
       "        vertical-align: middle;\n",
       "    }\n",
       "\n",
       "    .dataframe tbody tr th {\n",
       "        vertical-align: top;\n",
       "    }\n",
       "\n",
       "    .dataframe thead th {\n",
       "        text-align: right;\n",
       "    }\n",
       "</style>\n",
       "<table border=\"1\" class=\"dataframe\">\n",
       "  <thead>\n",
       "    <tr style=\"text-align: right;\">\n",
       "      <th></th>\n",
       "      <th>Country</th>\n",
       "      <th>Date of Admission</th>\n",
       "    </tr>\n",
       "  </thead>\n",
       "  <tbody>\n",
       "    <tr>\n",
       "      <th>0</th>\n",
       "      <td>afghanistan</td>\n",
       "      <td>19-Nov-46</td>\n",
       "    </tr>\n",
       "    <tr>\n",
       "      <th>1</th>\n",
       "      <td>albania</td>\n",
       "      <td>14-Dec-55</td>\n",
       "    </tr>\n",
       "    <tr>\n",
       "      <th>2</th>\n",
       "      <td>algeria</td>\n",
       "      <td>08-Oct-62</td>\n",
       "    </tr>\n",
       "    <tr>\n",
       "      <th>3</th>\n",
       "      <td>andorra</td>\n",
       "      <td>28-Jul-93</td>\n",
       "    </tr>\n",
       "    <tr>\n",
       "      <th>4</th>\n",
       "      <td>angola</td>\n",
       "      <td>01-Dec-76</td>\n",
       "    </tr>\n",
       "  </tbody>\n",
       "</table>\n",
       "</div>"
      ],
      "text/plain": [
       "       Country Date of Admission\n",
       "0  afghanistan         19-Nov-46\n",
       "1      albania         14-Dec-55\n",
       "2      algeria         08-Oct-62\n",
       "3      andorra         28-Jul-93\n",
       "4       angola         01-Dec-76"
      ]
     },
     "execution_count": 4,
     "metadata": {},
     "output_type": "execute_result"
    }
   ],
   "source": [
    "#Bring ONU Countries to a DF:\n",
    "file_path = '../Resources/ONU.csv'\n",
    "onu_df = pd.read_csv(file_path, encoding='UTF-8')\n",
    "\n",
    "#Clean 'Country' column from () [] etc:\n",
    "onu_df['Country'] = onu_df['Country'].str.lower()\n",
    "onu_df['Country'] = onu_df['Country'].str.replace(r\"\\s+\\(.*\\)\",\"\")\n",
    "onu_df['Country'] = onu_df['Country'].str.replace(r\"\\s+\\[.*\\]\",\"\")\n",
    "onu_df['Country'] = onu_df['Country'].str.replace(r\"\\[.*\\]\",\"\")\n",
    "\n",
    "#Clean and standarize these countries:\n",
    "onu_df['Country'] = onu_df['Country'].str.replace(r\"cÃ´te dâ€™ivoire\",\"cote d ivoire\")\n",
    "onu_df['Country'] = onu_df['Country'].str.replace(r\"democratic peopleâ€™s republic of korea\",\"democratic people s republic of korea\")\n",
    "onu_df['Country'] = onu_df['Country'].str.replace(r\"lao peopleâ€™s democratic republic\",\"lao people s democratic republic\")\n",
    "onu_df['Country'] = onu_df['Country'].str.replace(r\"united of republic of tanzania\",\"united republic of tanzania\")\n",
    "\n",
    "#onu_df.to_csv('out_ONU.csv', encoding='UTF-8')\n",
    "\n",
    "onu_df.head()"
   ]
  },
  {
   "cell_type": "markdown",
   "metadata": {},
   "source": [
    "# Let's merge the two Dataframes. Doing this, we'll only get data from ONU's  members."
   ]
  },
  {
   "cell_type": "code",
   "execution_count": 5,
   "metadata": {},
   "outputs": [
    {
     "data": {
      "text/plain": [
       "187"
      ]
     },
     "execution_count": 5,
     "metadata": {},
     "output_type": "execute_result"
    }
   ],
   "source": [
    "country_df = pd.merge(onu_df, data, on=\"Country\")\n",
    "\n",
    "#Export DF to csv for merging with other DFs.\n",
    "country_df.to_csv('../Resources/CO2_country.csv', encoding='UTF-8')\n",
    "country_df['Country'].nunique()"
   ]
  },
  {
   "cell_type": "markdown",
   "metadata": {},
   "source": [
    "Ask user to input the country"
   ]
  },
  {
   "cell_type": "code",
   "execution_count": 34,
   "metadata": {},
   "outputs": [
    {
     "name": "stdout",
     "output_type": "stream",
     "text": [
<<<<<<< HEAD
      "Please type the country you would like to analyze: russia\n"
=======
      "Please type the country you would like to analyze: cuba\n"
>>>>>>> 70bbbb1141e5c717b09c038802575966317cd8a1
     ]
    },
    {
     "data": {
<<<<<<< HEAD
      "image/png": "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\n",
=======
      "image/png": "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\n",
>>>>>>> 70bbbb1141e5c717b09c038802575966317cd8a1
      "text/plain": [
       "<Figure size 432x288 with 1 Axes>"
      ]
     },
     "metadata": {
      "needs_background": "light"
     },
     "output_type": "display_data"
    }
   ],
   "source": [
    "country = input (\"Please type the country you would like to analyze: \").lower()\n",
    "\n",
    "country_plt = country_df[country_df['Country'] == country]\n",
    "\n",
    "plt.plot(country_plt['Year'], country_plt['Total'], marker ='o', color='blue', label=\"CO2\",\n",
    "         linestyle='solid', linewidth=1, markersize=6\n",
    "        )\n",
    "\n",
    "plt.legend(loc=\"lower right\")\n",
    "\n",
    "plt.title(\"CO2 Emissions\")\n",
    "plt.xlabel(\"Years\")\n",
    "plt.ylabel(\"Total CO2 (Tons)\")\n",
    "\n",
    "plt.grid(True)\n",
    "\n",
    "plt.savefig('../../Images/C02_emissions_' + country + '.png')\n",
    "\n",
    "plt.show()"
   ]
  },
  {
   "cell_type": "code",
<<<<<<< HEAD
   "execution_count": 7,
=======
   "execution_count": 30,
>>>>>>> 70bbbb1141e5c717b09c038802575966317cd8a1
   "metadata": {},
   "outputs": [
    {
     "data": {
<<<<<<< HEAD
      "image/png": "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\n",
=======
      "image/png": "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\n",
>>>>>>> 70bbbb1141e5c717b09c038802575966317cd8a1
      "text/plain": [
       "<Figure size 432x288 with 1 Axes>"
      ]
     },
     "metadata": {
      "needs_background": "light"
     },
     "output_type": "display_data"
    }
   ],
   "source": [
    "#List our top four countries plus Mexico:\n",
    "\n",
    "top_countries = ['china', 'united states', 'india', 'russia', 'mexico']\n",
    "\n",
    "china = country_df[country_df['Country'] == 'china']\n",
    "us = country_df[country_df['Country'] == 'united states']\n",
    "india = country_df[country_df['Country'] == 'india']\n",
<<<<<<< HEAD
    "rusia = country_df[country_df['Country'] == 'russia']\n",
=======
    "rusia = country_df[country_df['Country'] == 'russian federation']\n",
>>>>>>> 70bbbb1141e5c717b09c038802575966317cd8a1
    "mexico = country_df[country_df['Country'] == 'mexico']\n",
    "\n",
    "\n",
    "plt.plot(china['Year'], china['Total'], marker ='o', color='red', label=\"China\",\n",
    "         linestyle='solid', linewidth=1, markersize=6\n",
    "        )\n",
    "\n",
    "plt.plot(us['Year'], us['Total'], marker ='o', color='blue', label=\"USA\",\n",
    "         linestyle='solid', linewidth=1, markersize=6\n",
    "        )\n",
    "\n",
    "plt.plot(india['Year'], india['Total'], marker ='o', color='orange', label=\"India\",\n",
    "         linestyle='solid', linewidth=1, markersize=6\n",
    "        )\n",
    "\n",
    "plt.plot(rusia['Year'], rusia['Total'], marker ='o', color='purple', label=\"Russia\",\n",
    "         linestyle='solid', linewidth=1, markersize=6\n",
    "        )\n",
    "\n",
    "plt.plot(mexico['Year'], mexico['Total'], marker ='o', color='green', label=\"Mexico\",\n",
    "         linestyle='solid', linewidth=1, markersize=6\n",
    "        )\n",
    "\n",
    "plt.legend(loc=\"best\")\n",
    "\n",
    "plt.title(\"Top five Countries CO2 Emissions\")\n",
    "plt.xlabel(\"Years\")\n",
    "plt.ylabel(\"Total CO2 (Tons)\")\n",
    "\n",
    "plt.grid(True)\n",
    "\n",
    "plt.savefig('../../Images/top_co2_countries.png')"
   ]
  },
  {
   "cell_type": "code",
   "execution_count": null,
   "metadata": {},
   "outputs": [],
   "source": []
  }
 ],
 "metadata": {
  "kernelspec": {
   "display_name": "Python 3",
   "language": "python",
   "name": "python3"
  },
  "language_info": {
   "codemirror_mode": {
    "name": "ipython",
    "version": 3
   },
   "file_extension": ".py",
   "mimetype": "text/x-python",
   "name": "python",
   "nbconvert_exporter": "python",
   "pygments_lexer": "ipython3",
   "version": "3.6.7"
  }
 },
 "nbformat": 4,
 "nbformat_minor": 2
}
