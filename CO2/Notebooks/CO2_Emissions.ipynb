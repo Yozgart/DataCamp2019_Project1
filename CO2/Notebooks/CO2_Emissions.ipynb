{
 "cells": [
  {
   "cell_type": "code",
   "execution_count": 1,
   "metadata": {},
   "outputs": [],
   "source": [
    "# Dependencies\n",
    "import matplotlib.pyplot as plt\n",
    "import numpy as np\n",
    "import pandas as pd"
   ]
  },
  {
   "cell_type": "code",
   "execution_count": 2,
   "metadata": {},
   "outputs": [
    {
     "data": {
      "text/html": [
       "<div>\n",
       "<style scoped>\n",
       "    .dataframe tbody tr th:only-of-type {\n",
       "        vertical-align: middle;\n",
       "    }\n",
       "\n",
       "    .dataframe tbody tr th {\n",
       "        vertical-align: top;\n",
       "    }\n",
       "\n",
       "    .dataframe thead th {\n",
       "        text-align: right;\n",
       "    }\n",
       "</style>\n",
       "<table border=\"1\" class=\"dataframe\">\n",
       "  <thead>\n",
       "    <tr style=\"text-align: right;\">\n",
       "      <th></th>\n",
       "      <th>Year</th>\n",
       "      <th>Country</th>\n",
       "      <th>Total</th>\n",
       "      <th>Solid Fuel</th>\n",
       "      <th>Liquid Fuel</th>\n",
       "      <th>Gas Fuel</th>\n",
       "      <th>Cement</th>\n",
       "      <th>Gas Flaring</th>\n",
       "      <th>Per Capita</th>\n",
       "      <th>Bunker fuels (Not in Total)</th>\n",
       "    </tr>\n",
       "  </thead>\n",
       "  <tbody>\n",
       "    <tr>\n",
       "      <th>0</th>\n",
       "      <td>1751</td>\n",
       "      <td>UNITED KINGDOM</td>\n",
       "      <td>2552</td>\n",
       "      <td>2552</td>\n",
       "      <td>0</td>\n",
       "      <td>0</td>\n",
       "      <td>0</td>\n",
       "      <td>0</td>\n",
       "      <td>0.0</td>\n",
       "      <td>0</td>\n",
       "    </tr>\n",
       "    <tr>\n",
       "      <th>1</th>\n",
       "      <td>1752</td>\n",
       "      <td>UNITED KINGDOM</td>\n",
       "      <td>2553</td>\n",
       "      <td>2553</td>\n",
       "      <td>0</td>\n",
       "      <td>0</td>\n",
       "      <td>0</td>\n",
       "      <td>0</td>\n",
       "      <td>0.0</td>\n",
       "      <td>0</td>\n",
       "    </tr>\n",
       "    <tr>\n",
       "      <th>2</th>\n",
       "      <td>1753</td>\n",
       "      <td>UNITED KINGDOM</td>\n",
       "      <td>2553</td>\n",
       "      <td>2553</td>\n",
       "      <td>0</td>\n",
       "      <td>0</td>\n",
       "      <td>0</td>\n",
       "      <td>0</td>\n",
       "      <td>0.0</td>\n",
       "      <td>0</td>\n",
       "    </tr>\n",
       "    <tr>\n",
       "      <th>3</th>\n",
       "      <td>1754</td>\n",
       "      <td>UNITED KINGDOM</td>\n",
       "      <td>2554</td>\n",
       "      <td>2554</td>\n",
       "      <td>0</td>\n",
       "      <td>0</td>\n",
       "      <td>0</td>\n",
       "      <td>0</td>\n",
       "      <td>0.0</td>\n",
       "      <td>0</td>\n",
       "    </tr>\n",
       "    <tr>\n",
       "      <th>4</th>\n",
       "      <td>1755</td>\n",
       "      <td>UNITED KINGDOM</td>\n",
       "      <td>2555</td>\n",
       "      <td>2555</td>\n",
       "      <td>0</td>\n",
       "      <td>0</td>\n",
       "      <td>0</td>\n",
       "      <td>0</td>\n",
       "      <td>0.0</td>\n",
       "      <td>0</td>\n",
       "    </tr>\n",
       "  </tbody>\n",
       "</table>\n",
       "</div>"
      ],
      "text/plain": [
       "   Year         Country  Total  Solid Fuel  Liquid Fuel  Gas Fuel  Cement  \\\n",
       "0  1751  UNITED KINGDOM   2552        2552            0         0       0   \n",
       "1  1752  UNITED KINGDOM   2553        2553            0         0       0   \n",
       "2  1753  UNITED KINGDOM   2553        2553            0         0       0   \n",
       "3  1754  UNITED KINGDOM   2554        2554            0         0       0   \n",
       "4  1755  UNITED KINGDOM   2555        2555            0         0       0   \n",
       "\n",
       "   Gas Flaring  Per Capita  Bunker fuels (Not in Total)  \n",
       "0            0         0.0                            0  \n",
       "1            0         0.0                            0  \n",
       "2            0         0.0                            0  \n",
       "3            0         0.0                            0  \n",
       "4            0         0.0                            0  "
      ]
     },
     "execution_count": 2,
     "metadata": {},
     "output_type": "execute_result"
    }
   ],
   "source": [
    "#Read Dataset\n",
    "csv_path = '../Resources/fossil-fuel-co2-emissions-by-nation.csv'\n",
    "data = pd.read_csv(csv_path)\n",
    "\n",
    "data.head()"
   ]
  },
  {
   "cell_type": "markdown",
   "metadata": {},
   "source": [
    "# Cleaning data:"
   ]
  },
  {
   "cell_type": "code",
   "execution_count": 3,
   "metadata": {},
   "outputs": [
    {
     "data": {
      "text/html": [
       "<div>\n",
       "<style scoped>\n",
       "    .dataframe tbody tr th:only-of-type {\n",
       "        vertical-align: middle;\n",
       "    }\n",
       "\n",
       "    .dataframe tbody tr th {\n",
       "        vertical-align: top;\n",
       "    }\n",
       "\n",
       "    .dataframe thead th {\n",
       "        text-align: right;\n",
       "    }\n",
       "</style>\n",
       "<table border=\"1\" class=\"dataframe\">\n",
       "  <thead>\n",
       "    <tr style=\"text-align: right;\">\n",
       "      <th></th>\n",
       "      <th>Year</th>\n",
       "      <th>Country</th>\n",
       "      <th>Total</th>\n",
       "      <th>Solid Fuel</th>\n",
       "      <th>Liquid Fuel</th>\n",
       "      <th>Gas Fuel</th>\n",
       "      <th>Cement</th>\n",
       "      <th>Gas Flaring</th>\n",
       "      <th>Per Capita</th>\n",
       "      <th>Bunker fuels (Not in Total)</th>\n",
       "    </tr>\n",
       "  </thead>\n",
       "  <tbody>\n",
       "    <tr>\n",
       "      <th>6352</th>\n",
       "      <td>1960</td>\n",
       "      <td>afghanistan</td>\n",
       "      <td>113</td>\n",
       "      <td>35</td>\n",
       "      <td>74</td>\n",
       "      <td>0</td>\n",
       "      <td>5</td>\n",
       "      <td>0</td>\n",
       "      <td>0.01</td>\n",
       "      <td>0</td>\n",
       "    </tr>\n",
       "    <tr>\n",
       "      <th>6353</th>\n",
       "      <td>1960</td>\n",
       "      <td>albania</td>\n",
       "      <td>552</td>\n",
       "      <td>89</td>\n",
       "      <td>430</td>\n",
       "      <td>23</td>\n",
       "      <td>10</td>\n",
       "      <td>0</td>\n",
       "      <td>0.34</td>\n",
       "      <td>0</td>\n",
       "    </tr>\n",
       "    <tr>\n",
       "      <th>6354</th>\n",
       "      <td>1960</td>\n",
       "      <td>algeria</td>\n",
       "      <td>1680</td>\n",
       "      <td>343</td>\n",
       "      <td>1193</td>\n",
       "      <td>0</td>\n",
       "      <td>144</td>\n",
       "      <td>0</td>\n",
       "      <td>0.16</td>\n",
       "      <td>438</td>\n",
       "    </tr>\n",
       "    <tr>\n",
       "      <th>6355</th>\n",
       "      <td>1960</td>\n",
       "      <td>angola</td>\n",
       "      <td>150</td>\n",
       "      <td>34</td>\n",
       "      <td>95</td>\n",
       "      <td>0</td>\n",
       "      <td>22</td>\n",
       "      <td>0</td>\n",
       "      <td>0.03</td>\n",
       "      <td>41</td>\n",
       "    </tr>\n",
       "    <tr>\n",
       "      <th>6356</th>\n",
       "      <td>1960</td>\n",
       "      <td>antigua and barbuda</td>\n",
       "      <td>10</td>\n",
       "      <td>0</td>\n",
       "      <td>10</td>\n",
       "      <td>0</td>\n",
       "      <td>0</td>\n",
       "      <td>0</td>\n",
       "      <td>0.18</td>\n",
       "      <td>0</td>\n",
       "    </tr>\n",
       "  </tbody>\n",
       "</table>\n",
       "</div>"
      ],
      "text/plain": [
       "      Year              Country  Total  Solid Fuel  Liquid Fuel  Gas Fuel  \\\n",
       "6352  1960          afghanistan    113          35           74         0   \n",
       "6353  1960              albania    552          89          430        23   \n",
       "6354  1960              algeria   1680         343         1193         0   \n",
       "6355  1960               angola    150          34           95         0   \n",
       "6356  1960  antigua and barbuda     10           0           10         0   \n",
       "\n",
       "      Cement  Gas Flaring  Per Capita  Bunker fuels (Not in Total)  \n",
       "6352       5            0        0.01                            0  \n",
       "6353      10            0        0.34                            0  \n",
       "6354     144            0        0.16                          438  \n",
       "6355      22            0        0.03                           41  \n",
       "6356       0            0        0.18                            0  "
      ]
     },
     "execution_count": 3,
     "metadata": {},
     "output_type": "execute_result"
    }
   ],
   "source": [
    "#Lowering case for 'Country' column\n",
    "data['Country'] = data['Country'].str.lower()\n",
    "\n",
    "#We'll use data from 1960 and over\n",
    "data = data.loc[data.Year > 1959]\n",
    "\n",
    "#We have to clean all the parentheses from the Country collumn\n",
    "data ['Country'] = data['Country'].str.replace(r\"\\s+\\(.*\\)\",\"\")\n",
    "data ['Country'] = data['Country'].str.replace(r\"&\",\"and\")\n",
    "\n",
    "#Clean and standarize country names:\n",
    "data['Country'] = data['Country'].str.replace(r\"plurinational state of bolivia\",\"bolivia\")\n",
    "data['Country'] = data['Country'].str.replace(r\"brunei\",\"brunei darussalam\")\n",
    "data['Country'] = data['Country'].str.replace(r\"republic of cameroon\",\"cameroon\")\n",
    "data['Country'] = data['Country'].str.replace(r\"guinea bissau\",\"guinea-bissau\")\n",
    "data['Country'] = data['Country'].str.replace(r\"islamic republic of iran\",\"iran\")\n",
    "data['Country'] = data['Country'].str.replace(r\"libyan arab jamahiriyah\",\"libya\")\n",
    "data['Country'] = data['Country'].str.replace(r\"st. kitts-nevis\",\"saint kitts and nevis\")\n",
    "data['Country'] = data['Country'].str.replace(r\"russian federation\",\"russia\")\n",
    "data['Country'] = data['Country'].str.replace(r\"st. vincent and the grenadines\",\"saint vincent and the grenadines\")\n",
    "data['Country'] = data['Country'].str.replace(r\"republic of south sudan\",\"south sudan\")\n",
    "data['Country'] = data['Country'].str.replace(r\"syrian arab republic\",\"syria\")\n",
    "data['Country'] = data['Country'].str.replace(r\"macedonia\",\"the former yugoslav republic of macedonia\")\n",
    "data['Country'] = data['Country'].str.replace(r\"timor-leste\",\"timor leste\")\n",
    "data['Country'] = data['Country'].str.replace(r\"united states of america\",\"united states\")\n",
    "\n",
    "#Reset Index\n",
    "data.reset_index()\n",
    "\n",
    "data.head()\n",
    "\n",
    "#data['Country'].nunique()"
   ]
  },
  {
   "cell_type": "markdown",
   "metadata": {},
   "source": [
    "We will only focus on countries that are members of the ONU."
   ]
  },
  {
   "cell_type": "code",
   "execution_count": 4,
   "metadata": {},
   "outputs": [
    {
     "data": {
      "text/html": [
       "<div>\n",
       "<style scoped>\n",
       "    .dataframe tbody tr th:only-of-type {\n",
       "        vertical-align: middle;\n",
       "    }\n",
       "\n",
       "    .dataframe tbody tr th {\n",
       "        vertical-align: top;\n",
       "    }\n",
       "\n",
       "    .dataframe thead th {\n",
       "        text-align: right;\n",
       "    }\n",
       "</style>\n",
       "<table border=\"1\" class=\"dataframe\">\n",
       "  <thead>\n",
       "    <tr style=\"text-align: right;\">\n",
       "      <th></th>\n",
       "      <th>Country</th>\n",
       "      <th>Date of Admission</th>\n",
       "    </tr>\n",
       "  </thead>\n",
       "  <tbody>\n",
       "    <tr>\n",
       "      <th>0</th>\n",
       "      <td>afghanistan</td>\n",
       "      <td>19-Nov-46</td>\n",
       "    </tr>\n",
       "    <tr>\n",
       "      <th>1</th>\n",
       "      <td>albania</td>\n",
       "      <td>14-Dec-55</td>\n",
       "    </tr>\n",
       "    <tr>\n",
       "      <th>2</th>\n",
       "      <td>algeria</td>\n",
       "      <td>08-Oct-62</td>\n",
       "    </tr>\n",
       "    <tr>\n",
       "      <th>3</th>\n",
       "      <td>andorra</td>\n",
       "      <td>28-Jul-93</td>\n",
       "    </tr>\n",
       "    <tr>\n",
       "      <th>4</th>\n",
       "      <td>angola</td>\n",
       "      <td>01-Dec-76</td>\n",
       "    </tr>\n",
       "  </tbody>\n",
       "</table>\n",
       "</div>"
      ],
      "text/plain": [
       "       Country Date of Admission\n",
       "0  afghanistan         19-Nov-46\n",
       "1      albania         14-Dec-55\n",
       "2      algeria         08-Oct-62\n",
       "3      andorra         28-Jul-93\n",
       "4       angola         01-Dec-76"
      ]
     },
     "execution_count": 4,
     "metadata": {},
     "output_type": "execute_result"
    }
   ],
   "source": [
    "#Bring ONU Countries to a DF:\n",
    "file_path = '../Resources/ONU.csv'\n",
    "onu_df = pd.read_csv(file_path, encoding='UTF-8')\n",
    "\n",
    "#Clean 'Country' column from () [] etc:\n",
    "onu_df['Country'] = onu_df['Country'].str.lower()\n",
    "onu_df['Country'] = onu_df['Country'].str.replace(r\"\\s+\\(.*\\)\",\"\")\n",
    "onu_df['Country'] = onu_df['Country'].str.replace(r\"\\s+\\[.*\\]\",\"\")\n",
    "onu_df['Country'] = onu_df['Country'].str.replace(r\"\\[.*\\]\",\"\")\n",
    "\n",
    "#Clean and standarize these countries:\n",
    "onu_df['Country'] = onu_df['Country'].str.replace(r\"cÃ´te dâ€™ivoire\",\"cote d ivoire\")\n",
    "onu_df['Country'] = onu_df['Country'].str.replace(r\"democratic peopleâ€™s republic of korea\",\"democratic people s republic of korea\")\n",
    "onu_df['Country'] = onu_df['Country'].str.replace(r\"lao peopleâ€™s democratic republic\",\"lao people s democratic republic\")\n",
    "onu_df['Country'] = onu_df['Country'].str.replace(r\"united of republic of tanzania\",\"united republic of tanzania\")\n",
    "\n",
    "#onu_df.to_csv('out_ONU.csv', encoding='UTF-8')\n",
    "\n",
    "onu_df.head()"
   ]
  },
  {
   "cell_type": "markdown",
   "metadata": {},
   "source": [
    "# Let's merge the two Dataframes. Doing this, we'll only get data from ONU's  members."
   ]
  },
  {
   "cell_type": "code",
   "execution_count": 5,
   "metadata": {},
   "outputs": [
    {
     "data": {
      "text/plain": [
       "187"
      ]
     },
     "execution_count": 5,
     "metadata": {},
     "output_type": "execute_result"
    }
   ],
   "source": [
    "country_df = pd.merge(onu_df, data, on=\"Country\")\n",
    "\n",
    "#Export DF to csv for merging with other DFs.\n",
    "country_df.to_csv('../Resources/CO2_country.csv', encoding='UTF-8')\n",
    "country_df['Country'].nunique()"
   ]
  },
  {
   "cell_type": "markdown",
   "metadata": {},
   "source": [
    "Ask user to input the country"
   ]
  },
  {
   "cell_type": "code",
   "execution_count": 6,
   "metadata": {},
   "outputs": [
    {
     "name": "stdout",
     "output_type": "stream",
     "text": [
      "Please type the country you would like to analyze: russia\n"
     ]
    },
    {
     "data": {
      "image/png": "[encoded data removed]",
      "text/plain": [
       "<Figure size 432x288 with 1 Axes>"
      ]
     },
     "metadata": {
      "needs_background": "light"
     },
     "output_type": "display_data"
    }
   ],
   "source": [
    "country = input (\"Please type the country you would like to analyze: \").lower()\n",
    "\n",
    "country_plt = country_df[country_df['Country'] == country]\n",
    "\n",
    "plt.plot(country_plt['Year'], country_plt['Total'], marker ='o', color='blue', label=\"CO2\",\n",
    "         linestyle='solid', linewidth=1, markersize=6\n",
    "        )\n",
    "\n",
    "plt.legend(loc=\"lower right\")\n",
    "\n",
    "plt.title(\"CO2 Emissions\")\n",
    "plt.xlabel(\"Years\")\n",
    "plt.ylabel(\"Total CO2 (Tons)\")\n",
    "\n",
    "plt.grid(True)\n",
    "\n",
    "plt.show()"
   ]
  },
  {
   "cell_type": "code",
   "execution_count": 7,
   "metadata": {},
   "outputs": [
    {
     "data": {
      "image/png": "[encoded data removed]",
      "text/plain": [
       "<Figure size 432x288 with 1 Axes>"
      ]
     },
     "metadata": {
      "needs_background": "light"
     },
     "output_type": "display_data"
    }
   ],
   "source": [
    "#List our top four countries plus Mexico:\n",
    "\n",
    "top_countries = ['china', 'united states', 'india', 'russia', 'mexico']\n",
    "\n",
    "china = country_df[country_df['Country'] == 'china']\n",
    "us = country_df[country_df['Country'] == 'united states']\n",
    "india = country_df[country_df['Country'] == 'india']\n",
    "rusia = country_df[country_df['Country'] == 'russia']\n",
    "mexico = country_df[country_df['Country'] == 'mexico']\n",
    "\n",
    "\n",
    "plt.plot(china['Year'], china['Total'], marker ='o', color='red', label=\"China\",\n",
    "         linestyle='solid', linewidth=1, markersize=6\n",
    "        )\n",
    "\n",
    "plt.plot(us['Year'], us['Total'], marker ='o', color='blue', label=\"USA\",\n",
    "         linestyle='solid', linewidth=1, markersize=6\n",
    "        )\n",
    "\n",
    "plt.plot(india['Year'], india['Total'], marker ='o', color='orange', label=\"India\",\n",
    "         linestyle='solid', linewidth=1, markersize=6\n",
    "        )\n",
    "\n",
    "plt.plot(rusia['Year'], rusia['Total'], marker ='o', color='purple', label=\"Russia\",\n",
    "         linestyle='solid', linewidth=1, markersize=6\n",
    "        )\n",
    "\n",
    "plt.plot(mexico['Year'], mexico['Total'], marker ='o', color='green', label=\"Mexico\",\n",
    "         linestyle='solid', linewidth=1, markersize=6\n",
    "        )\n",
    "\n",
    "plt.legend(loc=\"best\")\n",
    "\n",
    "plt.title(\"Top five Countries CO2 Emissions\")\n",
    "plt.xlabel(\"Years\")\n",
    "plt.ylabel(\"Total CO2 (Tons)\")\n",
    "\n",
    "plt.grid(True)\n"
   ]
  },
  {
   "cell_type": "code",
   "execution_count": null,
   "metadata": {},
   "outputs": [],
   "source": []
  }
 ],
 "metadata": {
  "kernelspec": {
   "display_name": "Python 3",
   "language": "python",
   "name": "python3"
  },
  "language_info": {
   "codemirror_mode": {
    "name": "ipython",
    "version": 3
   },
   "file_extension": ".py",
   "mimetype": "text/x-python",
   "name": "python",
   "nbconvert_exporter": "python",
   "pygments_lexer": "ipython3",
   "version": "3.6.7"
  }
 },
 "nbformat": 4,
 "nbformat_minor": 2
}
