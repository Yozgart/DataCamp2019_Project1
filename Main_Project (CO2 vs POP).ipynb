{
 "cells": [
  {
   "cell_type": "code",
   "execution_count": 1,
   "metadata": {},
   "outputs": [],
   "source": [
    "# Dependencies\n",
    "import matplotlib.pyplot as plt\n",
    "import numpy as np\n",
    "import pandas as pd"
   ]
  },
  {
   "cell_type": "markdown",
   "metadata": {},
   "source": [
    "# Merge CO2 vs Population"
   ]
  },
  {
   "cell_type": "code",
   "execution_count": 2,
   "metadata": {},
   "outputs": [
    {
     "data": {
      "text/html": [
       "<div>\n",
       "<style scoped>\n",
       "    .dataframe tbody tr th:only-of-type {\n",
       "        vertical-align: middle;\n",
       "    }\n",
       "\n",
       "    .dataframe tbody tr th {\n",
       "        vertical-align: top;\n",
       "    }\n",
       "\n",
       "    .dataframe thead th {\n",
       "        text-align: right;\n",
       "    }\n",
       "</style>\n",
       "<table border=\"1\" class=\"dataframe\">\n",
       "  <thead>\n",
       "    <tr style=\"text-align: right;\">\n",
       "      <th></th>\n",
       "      <th>Unnamed: 0</th>\n",
       "      <th>Country</th>\n",
       "      <th>Date of Admission</th>\n",
       "      <th>Year</th>\n",
       "      <th>Total</th>\n",
       "      <th>Solid Fuel</th>\n",
       "      <th>Liquid Fuel</th>\n",
       "      <th>Gas Fuel</th>\n",
       "      <th>Cement</th>\n",
       "      <th>Gas Flaring</th>\n",
       "      <th>Per Capita</th>\n",
       "      <th>Bunker fuels (Not in Total)</th>\n",
       "      <th>Indicator Name</th>\n",
       "      <th>Indicator Code</th>\n",
       "      <th>Country Code</th>\n",
       "      <th>POP</th>\n",
       "    </tr>\n",
       "  </thead>\n",
       "  <tbody>\n",
       "    <tr>\n",
       "      <th>0</th>\n",
       "      <td>0</td>\n",
       "      <td>afghanistan</td>\n",
       "      <td>19-Nov-46</td>\n",
       "      <td>1960</td>\n",
       "      <td>113</td>\n",
       "      <td>35</td>\n",
       "      <td>74</td>\n",
       "      <td>0</td>\n",
       "      <td>5</td>\n",
       "      <td>0</td>\n",
       "      <td>0.01</td>\n",
       "      <td>0</td>\n",
       "      <td>Population growth (annual %)</td>\n",
       "      <td>SP.POP.GROW</td>\n",
       "      <td>AFG</td>\n",
       "      <td>1.816077</td>\n",
       "    </tr>\n",
       "    <tr>\n",
       "      <th>1</th>\n",
       "      <td>1</td>\n",
       "      <td>afghanistan</td>\n",
       "      <td>19-Nov-46</td>\n",
       "      <td>1961</td>\n",
       "      <td>134</td>\n",
       "      <td>48</td>\n",
       "      <td>80</td>\n",
       "      <td>0</td>\n",
       "      <td>6</td>\n",
       "      <td>0</td>\n",
       "      <td>0.01</td>\n",
       "      <td>0</td>\n",
       "      <td>Population growth (annual %)</td>\n",
       "      <td>SP.POP.GROW</td>\n",
       "      <td>AFG</td>\n",
       "      <td>1.876528</td>\n",
       "    </tr>\n",
       "    <tr>\n",
       "      <th>2</th>\n",
       "      <td>2</td>\n",
       "      <td>afghanistan</td>\n",
       "      <td>19-Nov-46</td>\n",
       "      <td>1962</td>\n",
       "      <td>188</td>\n",
       "      <td>81</td>\n",
       "      <td>99</td>\n",
       "      <td>0</td>\n",
       "      <td>8</td>\n",
       "      <td>0</td>\n",
       "      <td>0.02</td>\n",
       "      <td>0</td>\n",
       "      <td>Population growth (annual %)</td>\n",
       "      <td>SP.POP.GROW</td>\n",
       "      <td>AFG</td>\n",
       "      <td>1.934999</td>\n",
       "    </tr>\n",
       "    <tr>\n",
       "      <th>3</th>\n",
       "      <td>3</td>\n",
       "      <td>afghanistan</td>\n",
       "      <td>19-Nov-46</td>\n",
       "      <td>1963</td>\n",
       "      <td>193</td>\n",
       "      <td>72</td>\n",
       "      <td>107</td>\n",
       "      <td>0</td>\n",
       "      <td>14</td>\n",
       "      <td>0</td>\n",
       "      <td>0.02</td>\n",
       "      <td>0</td>\n",
       "      <td>Population growth (annual %)</td>\n",
       "      <td>SP.POP.GROW</td>\n",
       "      <td>AFG</td>\n",
       "      <td>1.992521</td>\n",
       "    </tr>\n",
       "    <tr>\n",
       "      <th>4</th>\n",
       "      <td>4</td>\n",
       "      <td>afghanistan</td>\n",
       "      <td>19-Nov-46</td>\n",
       "      <td>1964</td>\n",
       "      <td>229</td>\n",
       "      <td>82</td>\n",
       "      <td>130</td>\n",
       "      <td>0</td>\n",
       "      <td>17</td>\n",
       "      <td>0</td>\n",
       "      <td>0.02</td>\n",
       "      <td>0</td>\n",
       "      <td>Population growth (annual %)</td>\n",
       "      <td>SP.POP.GROW</td>\n",
       "      <td>AFG</td>\n",
       "      <td>2.049423</td>\n",
       "    </tr>\n",
       "  </tbody>\n",
       "</table>\n",
       "</div>"
      ],
      "text/plain": [
       "   Unnamed: 0      Country Date of Admission  Year  Total  Solid Fuel  \\\n",
       "0           0  afghanistan         19-Nov-46  1960    113          35   \n",
       "1           1  afghanistan         19-Nov-46  1961    134          48   \n",
       "2           2  afghanistan         19-Nov-46  1962    188          81   \n",
       "3           3  afghanistan         19-Nov-46  1963    193          72   \n",
       "4           4  afghanistan         19-Nov-46  1964    229          82   \n",
       "\n",
       "   Liquid Fuel  Gas Fuel  Cement  Gas Flaring  Per Capita  \\\n",
       "0           74         0       5            0        0.01   \n",
       "1           80         0       6            0        0.01   \n",
       "2           99         0       8            0        0.02   \n",
       "3          107         0      14            0        0.02   \n",
       "4          130         0      17            0        0.02   \n",
       "\n",
       "   Bunker fuels (Not in Total)                Indicator Name Indicator Code  \\\n",
       "0                            0  Population growth (annual %)    SP.POP.GROW   \n",
       "1                            0  Population growth (annual %)    SP.POP.GROW   \n",
       "2                            0  Population growth (annual %)    SP.POP.GROW   \n",
       "3                            0  Population growth (annual %)    SP.POP.GROW   \n",
       "4                            0  Population growth (annual %)    SP.POP.GROW   \n",
       "\n",
       "  Country Code       POP  \n",
       "0          AFG  1.816077  \n",
       "1          AFG  1.876528  \n",
       "2          AFG  1.934999  \n",
       "3          AFG  1.992521  \n",
       "4          AFG  2.049423  "
      ]
     },
     "execution_count": 2,
     "metadata": {},
     "output_type": "execute_result"
    }
   ],
   "source": [
    "#Create C02 DF:\n",
    "csv_co2 = './CO2/Resources/CO2_country.csv'\n",
    "co2_df = pd.read_csv(csv_co2)\n",
    "\n",
    "#Create Population DF:\n",
    "csv_pop = './POP/Resources/pop.csv'\n",
    "pop_df = pd.read_csv(csv_pop)\n",
    "#Rename 'Country Name' column to 'Country':\n",
    "pop_df.rename(columns={'Country Name':'Country', 'year':'Year'}, inplace=True)\n",
    "\n",
    "#Merge CO2 & PIB Dataframes by two Colmuns (Country & Year):\n",
    "co2_pop = pd.merge(co2_df,pop_df,how='left', left_on=['Country','Year'],right_on=['Country','Year'])\n",
    "\n",
    "co2_pop.head()"
   ]
  },
  {
   "cell_type": "markdown",
   "metadata": {},
   "source": [
    "Let's Plot!"
   ]
  },
  {
   "cell_type": "code",
   "execution_count": 3,
   "metadata": {},
   "outputs": [
    {
     "name": "stdout",
     "output_type": "stream",
     "text": [
      "Please type the country you would like to analyze: russia\n"
     ]
    },
    {
     "data": {
      "image/png": "[encoded data removed]",
      "text/plain": [
       "<Figure size 432x288 with 2 Axes>"
      ]
     },
     "metadata": {
      "needs_background": "light"
     },
     "output_type": "display_data"
    },
    {
     "data": {
      "image/png": "[encoded data removed]",
      "text/plain": [
       "<Figure size 1152x576 with 1 Axes>"
      ]
     },
     "metadata": {
      "needs_background": "light"
     },
     "output_type": "display_data"
    }
   ],
   "source": [
    "country = input (\"Please type the country you would like to analyze: \").lower()\n",
    "\n",
    "country_plt = co2_pop[co2_pop['Country'] == country]\n",
    "\n",
    "fig, ax1 = plt.subplots()\n",
    "\n",
    "ax2 = ax1.twinx()\n",
    "\n",
    "# Plot the CO2 Emissions\n",
    "co2, = ax1.plot(country_plt['Year'], country_plt['Total'], color=\"blue\", label=\"C02 Emissions\")\n",
    "\n",
    "# Plot the PIB Growth per country\n",
    "pop, = ax2.plot(country_plt['Year'], country_plt['POP'], color=\"green\",label='Population')\n",
    "\n",
    "plt.title(\"CO2 Emissions & Population\")\n",
    "ax1.set_ylabel('C02', color='b')\n",
    "plt.figure(figsize=(16,8))\n",
    "ax2.set_ylabel('Population Growth (annual %)', color='green')\n",
    "plt.grid(True)\n",
    "\n",
    "plt.legend(handles=[co2, pop], loc=\"lower right\")\n",
    "plt.show()"
   ]
  },
  {
   "cell_type": "code",
   "execution_count": null,
   "metadata": {},
   "outputs": [],
   "source": []
  }
 ],
 "metadata": {
  "kernelspec": {
   "display_name": "Python 3",
   "language": "python",
   "name": "python3"
  },
  "language_info": {
   "codemirror_mode": {
    "name": "ipython",
    "version": 3
   },
   "file_extension": ".py",
   "mimetype": "text/x-python",
   "name": "python",
   "nbconvert_exporter": "python",
   "pygments_lexer": "ipython3",
   "version": "3.6.7"
  }
 },
 "nbformat": 4,
 "nbformat_minor": 2
}
