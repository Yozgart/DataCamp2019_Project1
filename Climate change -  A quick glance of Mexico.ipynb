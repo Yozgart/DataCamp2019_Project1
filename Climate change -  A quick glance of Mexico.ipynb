{
 "cells": [
  {
   "cell_type": "markdown",
   "metadata": {},
   "source": [
    "# Climate change: A quick glance of Mexico"
   ]
  },
  {
   "cell_type": "markdown",
   "metadata": {},
   "source": [
    "###### Dependecies for all the analysis"
   ]
  },
  {
   "cell_type": "code",
   "execution_count": null,
   "metadata": {},
   "outputs": [],
   "source": [
    "import matplotlib.pyplot as plt\n",
    "import numpy as np\n",
    "import pandas as pd\n",
    "from ipywidgets import widgets, interactive"
   ]
  },
  {
   "cell_type": "markdown",
   "metadata": {},
   "source": [
    "## Analysis between datasets"
   ]
  },
  {
   "cell_type": "markdown",
   "metadata": {},
   "source": [
    "### Correlative Population vs Temperature"
   ]
  },
  {
   "cell_type": "markdown",
   "metadata": {},
   "source": [
    "###### Inputs & Dataframes"
   ]
  },
  {
   "cell_type": "code",
   "execution_count": null,
   "metadata": {},
   "outputs": [],
   "source": [
    "Temp = './TEMP/Resources/Temperature2.csv'\n",
    "TempDf = pd.read_csv(Temp)\n",
    "\n",
    "Pop = './POP/Resources/pop.csv'\n",
    "PopDf = pd.read_csv(Pop)\n",
    "\n",
    "PopDf.rename(columns={'Country Name':'Country', 'year':'Year'}, inplace=True)\n",
    "TempDf.rename(columns={'Country Name':'Country', 'year':'Year'}, inplace=True)"
   ]
  },
  {
   "cell_type": "code",
   "execution_count": null,
   "metadata": {
    "scrolled": true
   },
   "outputs": [],
   "source": [
    "PopDf.head()"
   ]
  },
  {
   "cell_type": "code",
   "execution_count": null,
   "metadata": {},
   "outputs": [],
   "source": [
    "TempDf.head()"
   ]
  },
  {
   "cell_type": "markdown",
   "metadata": {},
   "source": [
    "###### Merge"
   ]
  },
  {
   "cell_type": "code",
   "execution_count": null,
   "metadata": {},
   "outputs": [],
   "source": [
    "TempPop = pd.merge(TempDf,PopDf,how='left', left_on=['Country','Year'],right_on=['Country','Year'])"
   ]
  },
  {
   "cell_type": "markdown",
   "metadata": {},
   "source": [
    "###### Graphic Drop Down List"
   ]
  },
  {
   "cell_type": "code",
   "execution_count": null,
   "metadata": {},
   "outputs": [],
   "source": [
    "drop_country = widgets.Dropdown(\n",
    "    options= ['All'] + list(TempPop['Country'].unique()),\n",
    "    value='All',\n",
    "    description='Country:',\n",
    ")\n",
    "\n",
    "drop_start_year = widgets.Dropdown(\n",
    "    options= list(TempPop['Year'].unique()),\n",
    "    value = TempPop['Year'].min(),\n",
    "    description='Start Year:',\n",
    ")\n",
    "\n",
    "drop_end_year = widgets.Dropdown(\n",
    "    options= ['All'] + list(TempPop['Year'].unique()),\n",
    "    value= TempPop['Year'].max(),\n",
    "    description='End Year:',\n",
    ")"
   ]
  },
  {
   "cell_type": "markdown",
   "metadata": {},
   "source": [
    "###### Graphic construction"
   ]
  },
  {
   "cell_type": "code",
   "execution_count": null,
   "metadata": {},
   "outputs": [],
   "source": [
    "try:\n",
    "    def plotit(drop_country, drop_start_year, drop_end_year):\n",
    "        country_pop_pip_plt_2 = TempPop.copy()\n",
    "    \n",
    "        if drop_country != 'All':\n",
    "            country_pop_pip_plt_2 = country_pop_pip_plt_2[country_pop_pip_plt_2.Country == drop_country]\n",
    "\n",
    "        # Filtra el maximo y el minimo\n",
    "        country_pop_pip_plt_2 = country_pop_pip_plt_2[(country_pop_pip_plt_2.Year >= drop_start_year) & (country_pop_pip_plt_2.Year <= drop_end_year)]\n",
    "\n",
    "        country_pop_pip_plt_2[\"POP\"] = pd.to_numeric(country_pop_pip_plt_2[\"POP\"])\n",
    "        country_pop_pip_plt_2[\"Year\"] = pd.to_numeric(country_pop_pip_plt_2[\"Year\"])\n",
    "    \n",
    "        country_pop_pip_plt_2 = country_pop_pip_plt_2.reset_index()\n",
    "      \n",
    "        fig, ax1 = plt.subplots()\n",
    "        ax2 = ax1.twinx()\n",
    "\n",
    "        TempY, = ax1.plot(country_pop_pip_plt_2['Year'], country_pop_pip_plt_2['AverageTemperature'], color=\"blue\", label=\"Average Temperature\")\n",
    "        PopY, = ax2.plot(country_pop_pip_plt_2['Year'], country_pop_pip_plt_2['POP'], color=\"green\",label='Population')\n",
    "\n",
    "        plt.title(\"Temperature & Population\")\n",
    "        ax1.set_ylabel('Temperature', color='b')\n",
    "        ax2.set_ylabel('Population Growth (annual %)', color='green')\n",
    "        plt.grid(True)\n",
    "\n",
    "        plt.legend(handles=[PopY, TempY], loc=\"lower right\")        \n",
    "        \n",
    "        plt.show();       \n",
    "except:\n",
    "    print(\"Error al realizar la grafica dinamica\")"
   ]
  },
  {
   "cell_type": "markdown",
   "metadata": {},
   "source": [
    "###### Interaction"
   ]
  },
  {
   "cell_type": "code",
   "execution_count": null,
   "metadata": {
    "scrolled": true
   },
   "outputs": [],
   "source": [
    "interactive(plotit, drop_country=drop_country, drop_start_year=drop_start_year, drop_end_year=drop_end_year)"
   ]
  },
  {
   "cell_type": "markdown",
   "metadata": {},
   "source": [
    "### Correlative PIB vs Temperature"
   ]
  },
  {
   "cell_type": "markdown",
   "metadata": {},
   "source": [
    "###### Inputs & Dataframes"
   ]
  },
  {
   "cell_type": "code",
   "execution_count": null,
   "metadata": {},
   "outputs": [],
   "source": [
    "Temp = './TEMP/Resources/Temperature2.csv'\n",
    "TempDf = pd.read_csv(Temp)\n",
    "\n",
    "Pib = './PIB/Resources/PIB.csv'\n",
    "PibDf = pd.read_csv(Pib)\n",
    "\n",
    "TempDf.rename(columns={'Country Name':'Country', 'year':'Year'}, inplace=True)\n",
    "\n",
    "TempDf['Year']=TempDf['Year'].astype(int)"
   ]
  },
  {
   "cell_type": "code",
   "execution_count": null,
   "metadata": {},
   "outputs": [],
   "source": [
    "PibDf.head()"
   ]
  },
  {
   "cell_type": "code",
   "execution_count": null,
   "metadata": {},
   "outputs": [],
   "source": [
    "TempDf.head()"
   ]
  },
  {
   "cell_type": "markdown",
   "metadata": {},
   "source": [
    "###### Merge"
   ]
  },
  {
   "cell_type": "code",
   "execution_count": null,
   "metadata": {},
   "outputs": [],
   "source": [
    "PibTemp = pd.merge(PibDf,TempDf,how='left', left_on=['Country','Year'],right_on=['Country','Year'])"
   ]
  },
  {
   "cell_type": "markdown",
   "metadata": {},
   "source": [
    "###### Graphic Drop Down List"
   ]
  },
  {
   "cell_type": "code",
   "execution_count": null,
   "metadata": {},
   "outputs": [],
   "source": [
    "drop_country = widgets.Dropdown(\n",
    "    options= ['All'] + list(PibTemp['Country'].unique()),\n",
    "    value='All',\n",
    "    description='Country:',\n",
    ")\n",
    "\n",
    "drop_start_year = widgets.Dropdown(\n",
    "    options= list(PibTemp['Year'].unique()),\n",
    "    value = PibTemp['Year'].min(),\n",
    "    description='Start Year:',\n",
    ")\n",
    "\n",
    "drop_end_year = widgets.Dropdown(\n",
    "    options= ['All'] + list(PibTemp['Year'].unique()),\n",
    "    value= PibTemp['Year'].max(),\n",
    "    description='End Year:',\n",
    ")"
   ]
  },
  {
   "cell_type": "markdown",
   "metadata": {},
   "source": [
    "###### Graphic construction"
   ]
  },
  {
   "cell_type": "code",
   "execution_count": null,
   "metadata": {},
   "outputs": [],
   "source": [
    "try:\n",
    "    def plotit(drop_country, drop_start_year, drop_end_year):\n",
    "        country_pop_pip_plt_2 = PibTemp.copy()\n",
    "    \n",
    "        if drop_country != 'All':\n",
    "            country_pop_pip_plt_2 = country_pop_pip_plt_2[country_pop_pip_plt_2.Country == drop_country]\n",
    "\n",
    "        # Filtra el maximo y el minimo\n",
    "        country_pop_pip_plt_2 = country_pop_pip_plt_2[(country_pop_pip_plt_2.Year >= drop_start_year) & (country_pop_pip_plt_2.Year <= drop_end_year)]\n",
    "\n",
    "        country_pop_pip_plt_2[\"PIB\"] = pd.to_numeric(country_pop_pip_plt_2[\"PIB\"])\n",
    "        country_pop_pip_plt_2[\"Year\"] = pd.to_numeric(country_pop_pip_plt_2[\"Year\"])\n",
    "    \n",
    "        country_pop_pip_plt_2 = country_pop_pip_plt_2.reset_index()\n",
    "      \n",
    "        fig, ax1 = plt.subplots()\n",
    "        ax2 = ax1.twinx()\n",
    "\n",
    "        TempY, = ax1.plot(country_pop_pip_plt_2['Year'], country_pop_pip_plt_2['AverageTemperature'], color=\"blue\", label=\"Average Temperature\")\n",
    "        PopY, = ax2.plot(country_pop_pip_plt_2['Year'], country_pop_pip_plt_2['PIB'], color=\"green\",label='Population')\n",
    "\n",
    "        plt.title(\"PIB & Temperature\")\n",
    "        ax1.set_ylabel('Temperature', color='b')\n",
    "        ax2.set_ylabel('PIB (annual %)', color='green')\n",
    "        plt.grid(True)\n",
    "\n",
    "        plt.legend(handles=[PopY, TempY], loc=\"lower right\")        \n",
    "        \n",
    "        plt.show();       \n",
    "except:\n",
    "    print(\"Error al realizar la grafica dinamica\")"
   ]
  },
  {
   "cell_type": "markdown",
   "metadata": {},
   "source": [
    "###### Interaction"
   ]
  },
  {
   "cell_type": "code",
   "execution_count": null,
   "metadata": {
    "scrolled": true
   },
   "outputs": [],
   "source": [
    "interactive(plotit, drop_country=drop_country, drop_start_year=drop_start_year, drop_end_year=drop_end_year)"
   ]
  },
  {
   "cell_type": "markdown",
   "metadata": {},
   "source": [
    "### Correlative CO2 vs PIB"
   ]
  },
  {
   "cell_type": "markdown",
   "metadata": {},
   "source": [
    "###### Inputs & Dataframes"
   ]
  },
  {
   "cell_type": "code",
   "execution_count": null,
   "metadata": {},
   "outputs": [],
   "source": [
    "csv_co2 = './CO2/Resources/CO2_country.csv'\n",
    "co2_df = pd.read_csv(csv_co2)\n",
    "\n",
    "csv_pib = './PIB/Resources/PIB.csv'\n",
    "pib_df = pd.read_csv(csv_pib)"
   ]
  },
  {
   "cell_type": "code",
   "execution_count": null,
   "metadata": {},
   "outputs": [],
   "source": [
    "co2_df.head()"
   ]
  },
  {
   "cell_type": "code",
   "execution_count": null,
   "metadata": {},
   "outputs": [],
   "source": [
    "pib_df.head()"
   ]
  },
  {
   "cell_type": "markdown",
   "metadata": {},
   "source": [
    "###### Merge"
   ]
  },
  {
   "cell_type": "code",
   "execution_count": null,
   "metadata": {},
   "outputs": [],
   "source": [
    "co2_pib = pd.merge(co2_df,pib_df,how='left', left_on=['Country','Year'],right_on=['Country','Year'])"
   ]
  },
  {
   "cell_type": "markdown",
   "metadata": {},
   "source": [
    "###### Graphic Drop Down List"
   ]
  },
  {
   "cell_type": "code",
   "execution_count": null,
   "metadata": {},
   "outputs": [],
   "source": [
    "drop_country = widgets.Dropdown(\n",
    "    options= ['All'] + list(co2_pib['Country'].unique()),\n",
    "    value='All',\n",
    "    description='Country:',\n",
    ")\n",
    "\n",
    "drop_start_year = widgets.Dropdown(\n",
    "    options= list(co2_pib['Year'].unique()),\n",
    "    value = co2_pib['Year'].min(),\n",
    "    description='Start Year:',\n",
    ")\n",
    "\n",
    "drop_end_year = widgets.Dropdown(\n",
    "    options= ['All'] + list(co2_pib['Year'].unique()),\n",
    "    value= co2_pib['Year'].max(),\n",
    "    description='End Year:',\n",
    ")"
   ]
  },
  {
   "cell_type": "markdown",
   "metadata": {},
   "source": [
    "###### Graphic construction"
   ]
  },
  {
   "cell_type": "code",
   "execution_count": null,
   "metadata": {},
   "outputs": [],
   "source": [
    "try:\n",
    "    def plotit(drop_country, drop_start_year, drop_end_year):\n",
    "        country_pop_pip_plt_2 = co2_pib.copy()\n",
    "    \n",
    "        if drop_country != 'All':\n",
    "            country_pop_pip_plt_2 = country_pop_pip_plt_2[country_pop_pip_plt_2.Country == drop_country]\n",
    "\n",
    "        # Filtra el maximo y el minimo\n",
    "        country_pop_pip_plt_2 = country_pop_pip_plt_2[(country_pop_pip_plt_2.Year >= drop_start_year) & (country_pop_pip_plt_2.Year <= drop_end_year)]\n",
    "\n",
    "        country_pop_pip_plt_2[\"PIB\"] = pd.to_numeric(country_pop_pip_plt_2[\"PIB\"])\n",
    "        country_pop_pip_plt_2[\"Year\"] = pd.to_numeric(country_pop_pip_plt_2[\"Year\"])\n",
    "    \n",
    "        country_pop_pip_plt_2 = country_pop_pip_plt_2.reset_index()\n",
    "      \n",
    "        fig, ax1 = plt.subplots()\n",
    "        ax2 = ax1.twinx()\n",
    "\n",
    "        co2, = ax1.plot(country_pop_pip_plt_2['Year'], country_pop_pip_plt_2['Total'], color=\"blue\", label=\"C02 Emissions\")\n",
    "        pib, = ax2.plot(country_pop_pip_plt_2['Year'], country_pop_pip_plt_2['PIB'], color=\"green\",label='PIB')\n",
    "\n",
    "        plt.title(\"CO2 Emissions & PIB Growth\")\n",
    "        ax1.set_ylabel('C02', color='b')\n",
    "        ax2.set_ylabel('PIB Growth (%)', color='green')\n",
    "        plt.grid(True)\n",
    "\n",
    "        plt.legend(handles=[co2, pib], loc=\"lower right\")        \n",
    "        \n",
    "        plt.show();       \n",
    "except:\n",
    "    print(\"Error al realizar la grafica dinamica\")"
   ]
  },
  {
   "cell_type": "markdown",
   "metadata": {},
   "source": [
    "###### Interaction"
   ]
  },
  {
   "cell_type": "code",
   "execution_count": null,
   "metadata": {},
   "outputs": [],
   "source": [
    "interactive(plotit, drop_country=drop_country, drop_start_year=drop_start_year, drop_end_year=drop_end_year)"
   ]
  },
  {
   "cell_type": "markdown",
   "metadata": {},
   "source": [
    "### Correlative CO2 vs Population"
   ]
  },
  {
   "cell_type": "markdown",
   "metadata": {},
   "source": [
    "###### Inputs & Dataframes"
   ]
  },
  {
   "cell_type": "code",
   "execution_count": null,
   "metadata": {},
   "outputs": [],
   "source": [
    "csv_co2 = './CO2/Resources/CO2_country.csv'\n",
    "co2_df = pd.read_csv(csv_co2)\n",
    "\n",
    "csv_pop = './POP/Resources/pop.csv'\n",
    "pop_df = pd.read_csv(csv_pop)\n",
    "\n",
    "pop_df.rename(columns={'Country Name':'Country', 'year':'Year'}, inplace=True)\n"
   ]
  },
  {
   "cell_type": "code",
   "execution_count": null,
   "metadata": {},
   "outputs": [],
   "source": [
    "co2_df.head()"
   ]
  },
  {
   "cell_type": "code",
   "execution_count": null,
   "metadata": {},
   "outputs": [],
   "source": [
    "pop_df.head()"
   ]
  },
  {
   "cell_type": "markdown",
   "metadata": {},
   "source": [
    "###### Merge"
   ]
  },
  {
   "cell_type": "code",
   "execution_count": null,
   "metadata": {},
   "outputs": [],
   "source": [
    "co2_pop = pd.merge(co2_df,pop_df,how='left', left_on=['Country','Year'],right_on=['Country','Year'])"
   ]
  },
  {
   "cell_type": "markdown",
   "metadata": {},
   "source": [
    "###### Graphic Drop Down List"
   ]
  },
  {
   "cell_type": "code",
   "execution_count": null,
   "metadata": {},
   "outputs": [],
   "source": [
    "drop_country = widgets.Dropdown(\n",
    "    options= ['All'] + list(co2_pop['Country'].unique()),\n",
    "    value='All',\n",
    "    description='Country:',\n",
    ")\n",
    "\n",
    "drop_start_year = widgets.Dropdown(\n",
    "    options= list(co2_pop['Year'].unique()),\n",
    "    value = co2_pop['Year'].min(),\n",
    "    description='Start Year:',\n",
    ")\n",
    "\n",
    "drop_end_year = widgets.Dropdown(\n",
    "    options= ['All'] + list(co2_pop['Year'].unique()),\n",
    "    value= co2_pop['Year'].max(),\n",
    "    description='End Year:',\n",
    ")"
   ]
  },
  {
   "cell_type": "markdown",
   "metadata": {},
   "source": [
    "###### Graphic construction"
   ]
  },
  {
   "cell_type": "code",
   "execution_count": null,
   "metadata": {},
   "outputs": [],
   "source": [
    "try:\n",
    "    def plotit(drop_country, drop_start_year, drop_end_year):\n",
    "        country_pop_pip_plt_2 = co2_pop.copy()\n",
    "    \n",
    "        if drop_country != 'All':\n",
    "            country_pop_pip_plt_2 = country_pop_pip_plt_2[country_pop_pip_plt_2.Country == drop_country]\n",
    "\n",
    "        country_pop_pip_plt_2 = country_pop_pip_plt_2[(country_pop_pip_plt_2.Year >= drop_start_year) & (country_pop_pip_plt_2.Year <= drop_end_year)]\n",
    "      \n",
    "        fig, ax1 = plt.subplots()\n",
    "        ax2 = ax1.twinx()\n",
    "\n",
    "        co2, = ax1.plot(country_pop_pip_plt_2['Year'], country_pop_pip_plt_2['Total'], color=\"blue\", label=\"C02 Emissions\")\n",
    "        pop, = ax2.plot(country_pop_pip_plt_2['Year'], country_pop_pip_plt_2['POP'], color=\"green\",label='PIB')\n",
    "\n",
    "        plt.title(\"CO2 Emissions & Population\")\n",
    "        ax1.set_ylabel('C02', color='b')\n",
    "        ax2.set_ylabel('Population Growth (annual %)', color='green')\n",
    "        plt.grid(True)\n",
    "\n",
    "        plt.legend(handles=[co2, pop], loc=\"lower right\")\n",
    "        plt.show() \n",
    "         \n",
    "except:\n",
    "    print(\"Error al realizar la grafica dinamica\")"
   ]
  },
  {
   "cell_type": "markdown",
   "metadata": {},
   "source": [
    "###### Interaction"
   ]
  },
  {
   "cell_type": "code",
   "execution_count": null,
   "metadata": {},
   "outputs": [],
   "source": [
    "interactive(plotit, drop_country=drop_country, drop_start_year=drop_start_year, drop_end_year=drop_end_year)"
   ]
  },
  {
   "cell_type": "markdown",
   "metadata": {},
   "source": [
    "### Correlative CO2 vs Temperature"
   ]
  },
  {
   "cell_type": "markdown",
   "metadata": {},
   "source": [
    "###### Inputs & Dataframes"
   ]
  },
  {
   "cell_type": "code",
   "execution_count": null,
   "metadata": {},
   "outputs": [],
   "source": [
    "csv_co2 = './CO2/Resources/CO2_country.csv'\n",
    "co2_df = pd.read_csv(csv_co2)\n",
    "\n",
    "csv_temp = './TEMP/Resources/merged2.csv'\n",
    "temp_df = pd.read_csv(csv_temp)"
   ]
  },
  {
   "cell_type": "code",
   "execution_count": null,
   "metadata": {},
   "outputs": [],
   "source": [
    "co2_df.head()"
   ]
  },
  {
   "cell_type": "code",
   "execution_count": null,
   "metadata": {},
   "outputs": [],
   "source": [
    "temp_df.head()"
   ]
  },
  {
   "cell_type": "markdown",
   "metadata": {},
   "source": [
    "###### Merge"
   ]
  },
  {
   "cell_type": "code",
   "execution_count": null,
   "metadata": {},
   "outputs": [],
   "source": [
    "co2_temp = pd.merge(co2_df,temp_df,how='left', left_on=['Country','Year'],right_on=['Country','Year'])"
   ]
  },
  {
   "cell_type": "markdown",
   "metadata": {},
   "source": [
    "###### Graphic Drop Down List"
   ]
  },
  {
   "cell_type": "code",
   "execution_count": null,
   "metadata": {},
   "outputs": [],
   "source": [
    "drop_country = widgets.Dropdown(\n",
    "    options= ['All'] + list(co2_temp['Country'].unique()),\n",
    "    value='All',\n",
    "    description='Country:',\n",
    ")\n",
    "\n",
    "drop_start_year = widgets.Dropdown(\n",
    "    options= list(co2_temp['Year'].unique()),\n",
    "    value = co2_temp['Year'].min(),\n",
    "    description='Start Year:',\n",
    ")\n",
    "\n",
    "drop_end_year = widgets.Dropdown(\n",
    "    options= ['All'] + list(co2_temp['Year'].unique()),\n",
    "    value= co2_temp['Year'].max(),\n",
    "    description='End Year:',\n",
    ")"
   ]
  },
  {
   "cell_type": "markdown",
   "metadata": {},
   "source": [
    "###### Graphic construction"
   ]
  },
  {
   "cell_type": "code",
   "execution_count": null,
   "metadata": {},
   "outputs": [],
   "source": [
    "try:\n",
    "    def plotit(drop_country, drop_start_year, drop_end_year):\n",
    "        country_pop_pip_plt_2 = co2_temp.copy()\n",
    "    \n",
    "        if drop_country != 'All':\n",
    "            country_pop_pip_plt_2 = country_pop_pip_plt_2[country_pop_pip_plt_2.Country == drop_country]\n",
    "\n",
    "        country_pop_pip_plt_2 = country_pop_pip_plt_2[(country_pop_pip_plt_2.Year >= drop_start_year) & (country_pop_pip_plt_2.Year <= drop_end_year)]\n",
    "      \n",
    "        fig, ax1 = plt.subplots()\n",
    "        ax2 = ax1.twinx()\n",
    "\n",
    "        co2, = ax1.plot(country_pop_pip_plt_2['Year'], country_pop_pip_plt_2['Total'], color=\"blue\", label=\"C02 Emissions\")\n",
    "        temp, = ax2.plot(country_pop_pip_plt_2['Year'], country_pop_pip_plt_2['Standard Deviation'], color=\"green\",label='PIB')\n",
    "\n",
    "        plt.title(\"CO2 Emissions & Climate Variation\")\n",
    "        ax1.set_ylabel('C02', color='b')\n",
    "        ax2.set_ylabel('Climate Variation', color='green')\n",
    "        plt.grid(True)\n",
    "\n",
    "        plt.legend(handles=[co2, temp], loc=\"lower right\")\n",
    "        plt.show()\n",
    "\n",
    "except:\n",
    "    print(\"Error al realizar la grafica dinamica\")"
   ]
  },
  {
   "cell_type": "markdown",
   "metadata": {},
   "source": [
    "###### Interaction"
   ]
  },
  {
   "cell_type": "code",
   "execution_count": null,
   "metadata": {},
   "outputs": [],
   "source": [
    "interactive(plotit, drop_country=drop_country, drop_start_year=drop_start_year, drop_end_year=drop_end_year)"
   ]
  },
  {
   "cell_type": "code",
   "execution_count": null,
   "metadata": {},
   "outputs": [],
   "source": []
  },
  {
   "cell_type": "code",
   "execution_count": null,
   "metadata": {},
   "outputs": [],
   "source": []
  },
  {
   "cell_type": "code",
   "execution_count": null,
   "metadata": {},
   "outputs": [],
   "source": []
  },
  {
   "cell_type": "code",
   "execution_count": null,
   "metadata": {},
   "outputs": [],
   "source": []
  },
  {
   "cell_type": "code",
   "execution_count": null,
   "metadata": {},
   "outputs": [],
   "source": []
  },
  {
   "cell_type": "code",
   "execution_count": null,
   "metadata": {},
   "outputs": [],
   "source": []
  },
  {
   "cell_type": "code",
   "execution_count": null,
   "metadata": {},
   "outputs": [],
   "source": []
  },
  {
   "cell_type": "code",
   "execution_count": null,
   "metadata": {},
   "outputs": [],
   "source": []
  },
  {
   "cell_type": "code",
   "execution_count": null,
   "metadata": {},
   "outputs": [],
   "source": []
  },
  {
   "cell_type": "code",
   "execution_count": null,
   "metadata": {},
   "outputs": [],
   "source": []
  },
  {
   "cell_type": "code",
   "execution_count": null,
   "metadata": {},
   "outputs": [],
   "source": []
  },
  {
   "cell_type": "code",
   "execution_count": null,
   "metadata": {},
   "outputs": [],
   "source": []
  },
  {
   "cell_type": "code",
   "execution_count": null,
   "metadata": {},
   "outputs": [],
   "source": []
  },
  {
   "cell_type": "code",
   "execution_count": null,
   "metadata": {},
   "outputs": [],
   "source": []
  },
  {
   "cell_type": "code",
   "execution_count": null,
   "metadata": {},
   "outputs": [],
   "source": []
  },
  {
   "cell_type": "code",
   "execution_count": null,
   "metadata": {},
   "outputs": [],
   "source": []
  },
  {
   "cell_type": "code",
   "execution_count": null,
   "metadata": {},
   "outputs": [],
   "source": []
  },
  {
   "cell_type": "code",
   "execution_count": null,
   "metadata": {},
   "outputs": [],
   "source": []
  },
  {
   "cell_type": "code",
   "execution_count": null,
   "metadata": {},
   "outputs": [],
   "source": []
  },
  {
   "cell_type": "code",
   "execution_count": null,
   "metadata": {},
   "outputs": [],
   "source": []
  },
  {
   "cell_type": "code",
   "execution_count": null,
   "metadata": {},
   "outputs": [],
   "source": []
  },
  {
   "cell_type": "code",
   "execution_count": null,
   "metadata": {},
   "outputs": [],
   "source": []
  },
  {
   "cell_type": "code",
   "execution_count": null,
   "metadata": {},
   "outputs": [],
   "source": []
  },
  {
   "cell_type": "code",
   "execution_count": null,
   "metadata": {},
   "outputs": [],
   "source": []
  },
  {
   "cell_type": "code",
   "execution_count": null,
   "metadata": {},
   "outputs": [],
   "source": []
  },
  {
   "cell_type": "code",
   "execution_count": null,
   "metadata": {},
   "outputs": [],
   "source": []
  },
  {
   "cell_type": "code",
   "execution_count": null,
   "metadata": {},
   "outputs": [],
   "source": []
  },
  {
   "cell_type": "code",
   "execution_count": null,
   "metadata": {},
   "outputs": [],
   "source": []
  },
  {
   "cell_type": "code",
   "execution_count": null,
   "metadata": {},
   "outputs": [],
   "source": []
  },
  {
   "cell_type": "code",
   "execution_count": null,
   "metadata": {},
   "outputs": [],
   "source": []
  },
  {
   "cell_type": "code",
   "execution_count": null,
   "metadata": {},
   "outputs": [],
   "source": []
  },
  {
   "cell_type": "code",
   "execution_count": null,
   "metadata": {},
   "outputs": [],
   "source": []
  },
  {
   "cell_type": "code",
   "execution_count": null,
   "metadata": {},
   "outputs": [],
   "source": []
  },
  {
   "cell_type": "code",
   "execution_count": null,
   "metadata": {},
   "outputs": [],
   "source": []
  },
  {
   "cell_type": "code",
   "execution_count": null,
   "metadata": {},
   "outputs": [],
   "source": []
  },
  {
   "cell_type": "code",
   "execution_count": null,
   "metadata": {},
   "outputs": [],
   "source": []
  },
  {
   "cell_type": "code",
   "execution_count": null,
   "metadata": {},
   "outputs": [],
   "source": []
  },
  {
   "cell_type": "code",
   "execution_count": null,
   "metadata": {},
   "outputs": [],
   "source": []
  },
  {
   "cell_type": "code",
   "execution_count": null,
   "metadata": {},
   "outputs": [],
   "source": []
  },
  {
   "cell_type": "code",
   "execution_count": null,
   "metadata": {},
   "outputs": [],
   "source": []
  },
  {
   "cell_type": "code",
   "execution_count": null,
   "metadata": {},
   "outputs": [],
   "source": []
  },
  {
   "cell_type": "code",
   "execution_count": null,
   "metadata": {},
   "outputs": [],
   "source": []
  },
  {
   "cell_type": "code",
   "execution_count": null,
   "metadata": {},
   "outputs": [],
   "source": []
  },
  {
   "cell_type": "code",
   "execution_count": null,
   "metadata": {},
   "outputs": [],
   "source": []
  },
  {
   "cell_type": "code",
   "execution_count": null,
   "metadata": {},
   "outputs": [],
   "source": []
  },
  {
   "cell_type": "code",
   "execution_count": null,
   "metadata": {},
   "outputs": [],
   "source": []
  },
  {
   "cell_type": "code",
   "execution_count": null,
   "metadata": {},
   "outputs": [],
   "source": []
  },
  {
   "cell_type": "code",
   "execution_count": null,
   "metadata": {},
   "outputs": [],
   "source": []
  },
  {
   "cell_type": "code",
   "execution_count": null,
   "metadata": {},
   "outputs": [],
   "source": []
  },
  {
   "cell_type": "code",
   "execution_count": null,
   "metadata": {},
   "outputs": [],
   "source": []
  },
  {
   "cell_type": "code",
   "execution_count": null,
   "metadata": {},
   "outputs": [],
   "source": []
  },
  {
   "cell_type": "code",
   "execution_count": null,
   "metadata": {},
   "outputs": [],
   "source": []
  },
  {
   "cell_type": "code",
   "execution_count": null,
   "metadata": {},
   "outputs": [],
   "source": []
  },
  {
   "cell_type": "code",
   "execution_count": null,
   "metadata": {},
   "outputs": [],
   "source": []
  },
  {
   "cell_type": "code",
   "execution_count": null,
   "metadata": {},
   "outputs": [],
   "source": []
  },
  {
   "cell_type": "code",
   "execution_count": null,
   "metadata": {},
   "outputs": [],
   "source": []
  }
 ],
 "metadata": {
  "kernelspec": {
   "display_name": "Python 3",
   "language": "python",
   "name": "python3"
  },
  "language_info": {
   "codemirror_mode": {
    "name": "ipython",
    "version": 3
   },
   "file_extension": ".py",
   "mimetype": "text/x-python",
   "name": "python",
   "nbconvert_exporter": "python",
   "pygments_lexer": "ipython3",
   "version": "3.6.7"
  }
 },
 "nbformat": 4,
 "nbformat_minor": 2
}
