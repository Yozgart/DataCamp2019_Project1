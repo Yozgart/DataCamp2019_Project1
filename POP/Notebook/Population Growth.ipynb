{
 "cells": [
  {
   "cell_type": "code",
   "execution_count": 29,
   "metadata": {},
   "outputs": [],
   "source": [
    "#Import Dependencies\n",
    "import matplotlib.pyplot as plt\n",
    "import os\n",
    "import csv\n",
    "import pandas as pd\n",
    "import numpy as np\n",
    "\n",
    "# Population\n",
    "PopData = \"../Resources/population.csv\"\n",
    "\n",
    "# Country Catalog\n",
    "onu_df = \"../Resources/onu.csv\"\n",
    "\n",
    "# Output Pop\n",
    "OutPutData = \"../Resources/pop.csv\""
   ]
  },
  {
   "cell_type": "code",
   "execution_count": 30,
   "metadata": {},
   "outputs": [],
   "source": [
    "PopDataDf = pd.read_csv(PopData)\n",
    "onu_df = pd.read_csv(onu_df)"
   ]
  },
  {
   "cell_type": "code",
   "execution_count": 31,
   "metadata": {},
   "outputs": [
    {
     "data": {
      "text/plain": [
       "Index(['Country', 'Date of Admission'], dtype='object')"
      ]
     },
     "execution_count": 31,
     "metadata": {},
     "output_type": "execute_result"
    }
   ],
   "source": [
    "onu_df.columns"
   ]
  },
  {
   "cell_type": "code",
   "execution_count": 32,
   "metadata": {},
   "outputs": [],
   "source": [
    "# PopDataDf[\"Country Name\"] = PopDataDf[\"Country Name\"].str.lower() \n",
    "onu_df['Country'] = onu_df['Country'].str.lower() "
   ]
  },
  {
   "cell_type": "code",
   "execution_count": 33,
   "metadata": {},
   "outputs": [],
   "source": [
    "PopDataDf.rename(columns={'Country Name':'Country'}, inplace=True)\n",
    "PopDataDf['Country'] = PopDataDf['Country'].str.lower() \n",
    "# PopDataDf['Country'] = PopDataDf['Country'].str.replace(r\"\\s+\\(.*\\)\",\"\")\n",
    "# PopDataDf['Country'] = PopDataDf['Country'].str.replace(r\"&\",\"and\")"
   ]
  },
  {
   "cell_type": "code",
   "execution_count": 34,
   "metadata": {},
   "outputs": [],
   "source": [
    "# #Clean and standarize country names:\n",
    "PopDataDf['Country']  = PopDataDf['Country'] .str.replace(r\"plurinational state of bolivia\",\"bolivia\")\n",
    "PopDataDf['Country']  = PopDataDf['Country'] .str.replace(r\"brunei\",\"brunei darussalam\")\n",
    "PopDataDf['Country']  = PopDataDf['Country'] .str.replace(r\"republic of cameroon\",\"cameroon\")\n",
    "PopDataDf['Country']  = PopDataDf['Country'] .str.replace(r\"russian federation\",\"russia\")\n",
    "PopDataDf['Country']  = PopDataDf['Country'] .str.replace(r\"guinea bissau\",\"guinea-bissau\")\n",
    "PopDataDf['Country']  = PopDataDf['Country'] .str.replace(r\"islamic republic of iran\",\"iran\")\n",
    "PopDataDf['Country']  = PopDataDf['Country'] .str.replace(r\"libyan arab jamahiriyah\",\"libya\")\n",
    "PopDataDf['Country']  = PopDataDf['Country'] .str.replace(r\"st. kitts-nevis\",\"saint kitts and nevis\")\n",
    "PopDataDf['Country']  = PopDataDf['Country'] .str.replace(r\"st. vincent and the grenadines\",\"saint vincent and the grenadines\")\n",
    "PopDataDf['Country']  = PopDataDf['Country'] .str.replace(r\"republic of south sudan\",\"south sudan\")\n",
    "PopDataDf['Country']  = PopDataDf['Country'] .str.replace(r\"syrian arab republic\",\"syria\")\n",
    "PopDataDf['Country']  = PopDataDf['Country'] .str.replace(r\"macedonia\",\"the former yugoslav republic of macedonia\")\n",
    "PopDataDf['Country']  = PopDataDf['Country'] .str.replace(r\"timor-leste\",\"timor leste\")\n",
    "PopDataDf['Country']  = PopDataDf['Country'] .str.replace(r\"united states of america\",\"united states\")\n",
    "PopDataDf['Country']  = PopDataDf['Country'] .str.replace(r\"venezuela, rb\",\"venezuela\")"
   ]
  },
  {
   "cell_type": "code",
   "execution_count": 35,
   "metadata": {},
   "outputs": [
    {
     "data": {
      "text/html": [
       "<div>\n",
       "<style scoped>\n",
       "    .dataframe tbody tr th:only-of-type {\n",
       "        vertical-align: middle;\n",
       "    }\n",
       "\n",
       "    .dataframe tbody tr th {\n",
       "        vertical-align: top;\n",
       "    }\n",
       "\n",
       "    .dataframe thead th {\n",
       "        text-align: right;\n",
       "    }\n",
       "</style>\n",
       "<table border=\"1\" class=\"dataframe\">\n",
       "  <thead>\n",
       "    <tr style=\"text-align: right;\">\n",
       "      <th></th>\n",
       "      <th>Country</th>\n",
       "      <th>Country Code</th>\n",
       "      <th>Indicator Name</th>\n",
       "      <th>Indicator Code</th>\n",
       "      <th>POP1960</th>\n",
       "      <th>POP1961</th>\n",
       "      <th>POP1962</th>\n",
       "      <th>POP1963</th>\n",
       "      <th>POP1964</th>\n",
       "      <th>POP1965</th>\n",
       "      <th>...</th>\n",
       "      <th>POP2008</th>\n",
       "      <th>POP2009</th>\n",
       "      <th>POP2010</th>\n",
       "      <th>POP2011</th>\n",
       "      <th>POP2012</th>\n",
       "      <th>POP2013</th>\n",
       "      <th>POP2014</th>\n",
       "      <th>POP2015</th>\n",
       "      <th>POP2016</th>\n",
       "      <th>POP2017</th>\n",
       "    </tr>\n",
       "  </thead>\n",
       "  <tbody>\n",
       "    <tr>\n",
       "      <th>200</th>\n",
       "      <td>russia</td>\n",
       "      <td>RUS</td>\n",
       "      <td>Population growth (annual %)</td>\n",
       "      <td>SP.POP.GROW</td>\n",
       "      <td>1.469497</td>\n",
       "      <td>1.110602</td>\n",
       "      <td>1.111455</td>\n",
       "      <td>1.110532</td>\n",
       "      <td>1.1111</td>\n",
       "      <td>1.110726</td>\n",
       "      <td>...</td>\n",
       "      <td>-0.043942</td>\n",
       "      <td>0.030114</td>\n",
       "      <td>0.044887</td>\n",
       "      <td>0.077967</td>\n",
       "      <td>0.168302</td>\n",
       "      <td>0.212924</td>\n",
       "      <td>0.2177</td>\n",
       "      <td>0.192559</td>\n",
       "      <td>0.170245</td>\n",
       "      <td>0.105698</td>\n",
       "    </tr>\n",
       "  </tbody>\n",
       "</table>\n",
       "<p>1 rows × 62 columns</p>\n",
       "</div>"
      ],
      "text/plain": [
       "    Country Country Code                Indicator Name Indicator Code  \\\n",
       "200  russia          RUS  Population growth (annual %)    SP.POP.GROW   \n",
       "\n",
       "      POP1960   POP1961   POP1962   POP1963  POP1964   POP1965    ...     \\\n",
       "200  1.469497  1.110602  1.111455  1.110532   1.1111  1.110726    ...      \n",
       "\n",
       "      POP2008   POP2009   POP2010   POP2011   POP2012   POP2013  POP2014  \\\n",
       "200 -0.043942  0.030114  0.044887  0.077967  0.168302  0.212924   0.2177   \n",
       "\n",
       "      POP2015   POP2016   POP2017  \n",
       "200  0.192559  0.170245  0.105698  \n",
       "\n",
       "[1 rows x 62 columns]"
      ]
     },
     "execution_count": 35,
     "metadata": {},
     "output_type": "execute_result"
    }
   ],
   "source": [
    "PopDataDf.loc[PopDataDf['Country'] == 'russia']"
   ]
  },
  {
   "cell_type": "code",
   "execution_count": 37,
   "metadata": {},
   "outputs": [],
   "source": [
    "# World Bank Source\n",
    "# https://data.worldbank.org/indicator/SP.POP.GROW\n",
    "\n",
    "# PopDataDf['Country'] = PopDataDf['Country'].str.lower() \n",
    "PopDataDf.drop(PopDataDf.columns[[-1, -2, -3, -4]], axis=1, inplace=True)\n",
    "PopDataDf.set_index('Country')\n",
    "\n",
    "SortDf = pd.wide_to_long(PopDataDf, [\"POP\"], i='Country', j=\"year\")"
   ]
  },
  {
   "cell_type": "code",
   "execution_count": 38,
   "metadata": {},
   "outputs": [],
   "source": [
    "#Clean 'Country' column from () [] etc:\n",
    "onu_df['Country'] = onu_df['Country'].str.lower()\n",
    "onu_df['Country'] = onu_df['Country'].str.replace(r\"\\s+\\(.*\\)\",\"\")\n",
    "onu_df['Country'] = onu_df['Country'].str.replace(r\"\\s+\\[.*\\]\",\"\")\n",
    "onu_df['Country'] = onu_df['Country'].str.replace(r\"\\[.*\\]\",\"\")\n",
    "\n",
    "#Clean and standarize these countries:\n",
    "onu_df['Country'] = onu_df['Country'].str.replace(r\"cÃ´te dâ€™ivoire\",\"cote d ivoire\")\n",
    "onu_df['Country'] = onu_df['Country'].str.replace(r\"democratic peopleâ€™s republic of korea\",\"democratic people s republic of korea\")\n",
    "onu_df['Country'] = onu_df['Country'].str.replace(r\"lao peopleâ€™s democratic republic\",\"lao people s democratic republic\")\n",
    "onu_df['Country'] = onu_df['Country'].str.replace(r\"united of republic of tanzania\",\"united republic of tanzania\")"
   ]
  },
  {
   "cell_type": "code",
   "execution_count": 39,
   "metadata": {
    "scrolled": true
   },
   "outputs": [],
   "source": [
    "SortDf.to_csv(OutPutData, encoding='utf-8', index=True)\n",
    "SortDf = SortDf.reset_index()\n"
   ]
  },
  {
   "cell_type": "code",
   "execution_count": 40,
   "metadata": {},
   "outputs": [
    {
     "name": "stdout",
     "output_type": "stream",
     "text": [
      "Which country do you need to analyze? : russia\n"
     ]
    },
    {
     "data": {
      "image/png": "[encoded data removed]",
      "text/plain": [
       "<Figure size 432x288 with 1 Axes>"
      ]
     },
     "metadata": {
      "needs_background": "light"
     },
     "output_type": "display_data"
    }
   ],
   "source": [
    "Sel = input (\"Which country do you need to analyze? : \").lower()\n",
    "\n",
    "CountPlt = SortDf[SortDf['Country'] == Sel]\n",
    "\n",
    "plt.plot(CountPlt['year'], CountPlt['POP'], marker ='o', color='SkyBlue', label=\"Population\", linestyle='solid', linewidth=1, markersize=6)\n",
    "plt.legend(loc=\"lower right\")\n",
    "plt.title(\"Population Growth\")\n",
    "plt.xlabel(\"Years\")\n",
    "plt.ylabel(\"People\")\n",
    "\n",
    "plt.savefig(\"../Resources/PopulationGrowth.png\")\n",
    "plt.savefig(\"../../Images/PopulationGrowth.png\")\n",
    "plt.show()"
   ]
  },
  {
   "cell_type": "code",
   "execution_count": 41,
   "metadata": {},
   "outputs": [
    {
     "data": {
      "image/png": "[encoded data removed]",
      "text/plain": [
       "<Figure size 432x288 with 1 Axes>"
      ]
     },
     "metadata": {
      "needs_background": "light"
     },
     "output_type": "display_data"
    }
   ],
   "source": [
    "#List our top four countries plus Mexico:\n",
    "\n",
    "top_countries = ['china', 'united states', 'india', 'rusia', 'mexico']\n",
    "\n",
    "china = SortDf[SortDf['Country'] == 'china']\n",
    "us = SortDf[SortDf['Country'] == 'united states']\n",
    "india = SortDf[SortDf['Country'] == 'india']\n",
    "rusia = SortDf[SortDf['Country'] == 'russia']\n",
    "mexico = SortDf[SortDf['Country'] == 'mexico']\n",
    "\n",
    "\n",
    "plt.plot(china['year'], china['POP'], marker ='o', color='red', label=\"China\",\n",
    "        linestyle='solid', linewidth=1, markersize=6\n",
    "       )\n",
    "\n",
    "plt.plot(us['year'], us['POP'], marker ='o', color='blue', label=\"USA\",\n",
    "        linestyle='solid', linewidth=1, markersize=6\n",
    "       )\n",
    "\n",
    "plt.plot(india['year'], india['POP'], marker ='o', color='orange', label=\"India\",\n",
    "        linestyle='solid', linewidth=1, markersize=6\n",
    "       )\n",
    "\n",
    "plt.plot(rusia['year'], rusia['POP'], marker ='o', color='purple', label=\"Rusia\",\n",
    "        linestyle='solid', linewidth=1, markersize=6\n",
    "       )\n",
    "\n",
    "plt.plot(mexico['year'], mexico['POP'], marker ='o', color='green', label=\"Mexico\",\n",
    "        linestyle='solid', linewidth=1, markersize=6\n",
    "       )\n",
    "\n",
    "plt.legend(loc=\"best\")\n",
    "\n",
    "plt.title(\"Top five Countries Population Growth\")\n",
    "plt.xlabel(\"Years\")\n",
    "plt.ylabel(\"Population\")\n",
    "\n",
    "plt.savefig(\"../Resources/Top5Population.png\")\n",
    "plt.savefig(\"../../Images/Top5Population.png\")\n",
    "plt.grid(True)"
   ]
  }
 ],
 "metadata": {
  "kernelspec": {
   "display_name": "Python 3",
   "language": "python",
   "name": "python3"
  },
  "language_info": {
   "codemirror_mode": {
    "name": "ipython",
    "version": 3
   },
   "file_extension": ".py",
   "mimetype": "text/x-python",
   "name": "python",
   "nbconvert_exporter": "python",
   "pygments_lexer": "ipython3",
   "version": "3.6.7"
  }
 },
 "nbformat": 4,
 "nbformat_minor": 2
}
