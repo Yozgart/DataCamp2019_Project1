{
 "cells": [
  {
   "cell_type": "code",
   "execution_count": 16,
   "metadata": {},
   "outputs": [],
   "source": [
    "# Dependencies\n",
    "import matplotlib.pyplot as plt\n",
    "import numpy as np\n",
    "import pandas as pd\n",
    "from ipywidgets import widgets, interactive"
   ]
  },
  {
   "cell_type": "markdown",
   "metadata": {},
   "source": [
    "Merge PIB vs POP "
   ]
  },
  {
   "cell_type": "code",
   "execution_count": 17,
   "metadata": {},
   "outputs": [],
   "source": [
    "gdp_data_to_load = \"./PIB/Resources/PIB.csv\"\n",
    "df_gdp_data = pd.read_csv(gdp_data_to_load)\n",
    "\n",
    "pop_data_to_load = \"./POP/Resources/pop.csv\"\n",
    "df_pop_data = pd.read_csv(pop_data_to_load)\n",
    "\n",
    "df_pop_data.rename(columns={'Country Name':'Country', 'year':'Year'}, inplace=True)"
   ]
  },
  {
   "cell_type": "code",
   "execution_count": 18,
   "metadata": {},
   "outputs": [
    {
     "data": {
      "text/html": [
       "<div>\n",
       "<style scoped>\n",
       "    .dataframe tbody tr th:only-of-type {\n",
       "        vertical-align: middle;\n",
       "    }\n",
       "\n",
       "    .dataframe tbody tr th {\n",
       "        vertical-align: top;\n",
       "    }\n",
       "\n",
       "    .dataframe thead th {\n",
       "        text-align: right;\n",
       "    }\n",
       "</style>\n",
       "<table border=\"1\" class=\"dataframe\">\n",
       "  <thead>\n",
       "    <tr style=\"text-align: right;\">\n",
       "      <th></th>\n",
       "      <th>Country</th>\n",
       "      <th>Year</th>\n",
       "      <th>Indicator Name_x</th>\n",
       "      <th>Indicator Code_x</th>\n",
       "      <th>Country Code_x</th>\n",
       "      <th>PIB</th>\n",
       "      <th>Indicator Code_y</th>\n",
       "      <th>Indicator Name_y</th>\n",
       "      <th>Country Code_y</th>\n",
       "      <th>POP</th>\n",
       "    </tr>\n",
       "  </thead>\n",
       "  <tbody>\n",
       "    <tr>\n",
       "      <th>0</th>\n",
       "      <td>aruba</td>\n",
       "      <td>1960</td>\n",
       "      <td>GDP growth (annual %)</td>\n",
       "      <td>NY.GDP.MKTP.KD.ZG</td>\n",
       "      <td>ABW</td>\n",
       "      <td>NaN</td>\n",
       "      <td>SP.POP.GROW</td>\n",
       "      <td>Population growth (annual %)</td>\n",
       "      <td>ABW</td>\n",
       "      <td>3.148037</td>\n",
       "    </tr>\n",
       "    <tr>\n",
       "      <th>1</th>\n",
       "      <td>afghanistan</td>\n",
       "      <td>1960</td>\n",
       "      <td>GDP growth (annual %)</td>\n",
       "      <td>NY.GDP.MKTP.KD.ZG</td>\n",
       "      <td>AFG</td>\n",
       "      <td>NaN</td>\n",
       "      <td>SP.POP.GROW</td>\n",
       "      <td>Population growth (annual %)</td>\n",
       "      <td>AFG</td>\n",
       "      <td>1.816077</td>\n",
       "    </tr>\n",
       "    <tr>\n",
       "      <th>2</th>\n",
       "      <td>angola</td>\n",
       "      <td>1960</td>\n",
       "      <td>GDP growth (annual %)</td>\n",
       "      <td>NY.GDP.MKTP.KD.ZG</td>\n",
       "      <td>AGO</td>\n",
       "      <td>NaN</td>\n",
       "      <td>SP.POP.GROW</td>\n",
       "      <td>Population growth (annual %)</td>\n",
       "      <td>AGO</td>\n",
       "      <td>1.903517</td>\n",
       "    </tr>\n",
       "    <tr>\n",
       "      <th>3</th>\n",
       "      <td>albania</td>\n",
       "      <td>1960</td>\n",
       "      <td>GDP growth (annual %)</td>\n",
       "      <td>NY.GDP.MKTP.KD.ZG</td>\n",
       "      <td>ALB</td>\n",
       "      <td>NaN</td>\n",
       "      <td>SP.POP.GROW</td>\n",
       "      <td>Population growth (annual %)</td>\n",
       "      <td>ALB</td>\n",
       "      <td>3.015423</td>\n",
       "    </tr>\n",
       "    <tr>\n",
       "      <th>4</th>\n",
       "      <td>andorra</td>\n",
       "      <td>1960</td>\n",
       "      <td>GDP growth (annual %)</td>\n",
       "      <td>NY.GDP.MKTP.KD.ZG</td>\n",
       "      <td>AND</td>\n",
       "      <td>NaN</td>\n",
       "      <td>SP.POP.GROW</td>\n",
       "      <td>Population growth (annual %)</td>\n",
       "      <td>AND</td>\n",
       "      <td>7.050663</td>\n",
       "    </tr>\n",
       "  </tbody>\n",
       "</table>\n",
       "</div>"
      ],
      "text/plain": [
       "       Country  Year       Indicator Name_x   Indicator Code_x Country Code_x  \\\n",
       "0        aruba  1960  GDP growth (annual %)  NY.GDP.MKTP.KD.ZG            ABW   \n",
       "1  afghanistan  1960  GDP growth (annual %)  NY.GDP.MKTP.KD.ZG            AFG   \n",
       "2       angola  1960  GDP growth (annual %)  NY.GDP.MKTP.KD.ZG            AGO   \n",
       "3      albania  1960  GDP growth (annual %)  NY.GDP.MKTP.KD.ZG            ALB   \n",
       "4      andorra  1960  GDP growth (annual %)  NY.GDP.MKTP.KD.ZG            AND   \n",
       "\n",
       "   PIB Indicator Code_y              Indicator Name_y Country Code_y       POP  \n",
       "0  NaN      SP.POP.GROW  Population growth (annual %)            ABW  3.148037  \n",
       "1  NaN      SP.POP.GROW  Population growth (annual %)            AFG  1.816077  \n",
       "2  NaN      SP.POP.GROW  Population growth (annual %)            AGO  1.903517  \n",
       "3  NaN      SP.POP.GROW  Population growth (annual %)            ALB  3.015423  \n",
       "4  NaN      SP.POP.GROW  Population growth (annual %)            AND  7.050663  "
      ]
     },
     "execution_count": 18,
     "metadata": {},
     "output_type": "execute_result"
    }
   ],
   "source": [
    "# Realizar el marge entre los dos dataframes\n",
    "df_pop_pib = pd.merge(df_gdp_data, df_pop_data, on=['Country','Year'])\n",
    "df_pop_pib.head(5)"
   ]
  },
  {
   "cell_type": "markdown",
   "metadata": {},
   "source": [
    "Dynamic Plot  (PIB vs POP)"
   ]
  },
  {
   "cell_type": "code",
   "execution_count": 19,
   "metadata": {},
   "outputs": [],
   "source": [
    "# Se crea un dropdown list de las ciudades\n",
    "drop_country = widgets.Dropdown(\n",
    "    options= ['All'] + list(df_pop_pib['Country'].unique()),\n",
    "    value='All',\n",
    "    description='Country:',\n",
    ")\n",
    "\n",
    "# Se crea un dropdown del año inicial\n",
    "drop_start_year = widgets.Dropdown(\n",
    "    options= list(df_pop_pib['Year'].unique()),\n",
    "    value = df_pop_pib['Year'].min(),\n",
    "    description='Start Year:',\n",
    ")\n",
    "\n",
    "# Se crea un dropdown del año final\n",
    "drop_end_year = widgets.Dropdown(\n",
    "    options= ['All'] + list(df_pop_pib['Year'].unique()),\n",
    "    value= df_pop_pib['Year'].max(),\n",
    "    description='End Year:',\n",
    ")"
   ]
  },
  {
   "cell_type": "code",
   "execution_count": 20,
   "metadata": {},
   "outputs": [],
   "source": [
    "def plotit(drop_country, drop_start_year, drop_end_year):\n",
    "    country_pop_pip_plt_2 = df_pop_pib.copy()\n",
    "  \n",
    "    if drop_country != 'All':\n",
    "        country_pop_pip_plt_2 = country_pop_pip_plt_2[country_pop_pip_plt_2.Country == drop_country]\n",
    "        # Filtra el maximo y el minimo\n",
    "        country_pop_pip_plt_2 = country_pop_pip_plt_2[(country_pop_pip_plt_2.Year >= drop_start_year) & (country_pop_pip_plt_2.Year <= drop_end_year)]\n",
    "\n",
    "        country_pop_pip_plt_2[\"POP\"] = pd.to_numeric(country_pop_pip_plt_2[\"POP\"])\n",
    "        country_pop_pip_plt_2[\"PIB\"] = pd.to_numeric(country_pop_pip_plt_2[\"PIB\"])\n",
    "    \n",
    "        country_pop_pip_plt_2 = country_pop_pip_plt_2.reset_index()\n",
    "    \n",
    "        fig, ax1 = plt.subplots()\n",
    "        ax2 = ax1.twinx()\n",
    "\n",
    "        # Plot the Population\n",
    "        pop, = ax1.plot(country_pop_pip_plt_2['Year'], country_pop_pip_plt_2['POP'], color=\"blue\", label=\"Population\")\n",
    "\n",
    "        # Plot the PIB Growth per country\n",
    "        pib, = ax2.plot(country_pop_pip_plt_2['Year'], country_pop_pip_plt_2['PIB'], color=\"red\",label='% rate of PIB')\n",
    "\n",
    "        plt.title(\"Population & PIB Growth \" + drop_country)\n",
    "        ax1.set_ylabel('POP', color='b')\n",
    "        ax2.set_ylabel('PIB Growth (%)', color='r')\n",
    "        plt.grid(True)\n",
    "\n",
    "        plt.legend(handles=[pop, pib], loc=\"lower right\")\n",
    "        plt.savefig(\"./Images/PIB&POP.png\")\n",
    "        plt.show()       "
   ]
  },
  {
   "cell_type": "code",
   "execution_count": 21,
   "metadata": {},
   "outputs": [
    {
     "data": {
      "application/vnd.jupyter.widget-view+json": {
       "model_id": "86157f7c83dd46d7bc09bc6361ee683b",
       "version_major": 2,
       "version_minor": 0
      },
      "text/plain": [
       "interactive(children=(Dropdown(description='Country:', options=('All', 'aruba', 'afghanistan', 'angola', 'alba…"
      ]
     },
     "metadata": {},
     "output_type": "display_data"
    }
   ],
   "source": [
    "interactive(plotit, drop_country=drop_country, drop_start_year=drop_start_year, drop_end_year=drop_end_year)"
   ]
  },
  {
   "cell_type": "code",
   "execution_count": null,
   "metadata": {},
   "outputs": [],
   "source": []
  }
 ],
 "metadata": {
  "kernelspec": {
   "display_name": "Python 3",
   "language": "python",
   "name": "python3"
  },
  "language_info": {
   "codemirror_mode": {
    "name": "ipython",
    "version": 3
   },
   "file_extension": ".py",
   "mimetype": "text/x-python",
   "name": "python",
   "nbconvert_exporter": "python",
   "pygments_lexer": "ipython3",
   "version": "3.7.1"
  }
 },
 "nbformat": 4,
 "nbformat_minor": 2
}
