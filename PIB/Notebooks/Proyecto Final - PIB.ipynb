{
 "cells": [
  {
   "cell_type": "markdown",
   "metadata": {},
   "source": [
    "# Import Dependencies"
   ]
  },
  {
   "cell_type": "code",
   "execution_count": 1,
   "metadata": {},
   "outputs": [],
   "source": [
    "#importar las dependencias\n",
    "import os\n",
    "import csv\n",
    "import pandas as pd\n",
    "import numpy as np\n",
    "import matplotlib.pyplot as plt\n",
    "\n",
    "# Cargar la ruta de archivo PIB\n",
    "gdp_data_to_load = \"../Resources/GDP.csv\"\n",
    "\n",
    "# Cargar la ruta de catalogo paises\n",
    "onu_data_to_load = \"../Resources/ONU.csv\"\n",
    "\n",
    "# Establece el archivo de Salida\n",
    "file_name = \"../Resources/PIB.csv\""
   ]
  },
  {
   "cell_type": "markdown",
   "metadata": {},
   "source": [
    "# Read information"
   ]
  },
  {
   "cell_type": "code",
   "execution_count": 2,
   "metadata": {},
   "outputs": [],
   "source": [
    "# Lee los archivos y almacenarlos en un dataframe\n",
    "try:\n",
    "    df_gdp_data = pd.read_csv(gdp_data_to_load)\n",
    "    df_onu_data = pd.read_csv(onu_data_to_load)\n",
    "except:\n",
    "    print(\"Error al leer los archivos\")"
   ]
  },
  {
   "cell_type": "markdown",
   "metadata": {},
   "source": [
    "# Clean Data"
   ]
  },
  {
   "cell_type": "code",
   "execution_count": 30,
   "metadata": {},
   "outputs": [],
   "source": [
    "# Los datos fueron obtenidos desde el banco mundial:\n",
    "# http://datatopics.worldbank.org/world-development-indicators/themes/economy.html\n",
    "\n",
    "# Se renombran las columnas para generar una subnet\n",
    "try:\n",
    "    df_gdp_data.rename(columns={'Country Name':'Country'}, inplace=True)\n",
    "except:\n",
    "    print(\"Error al renombrar las columnas\")"
   ]
  },
  {
   "cell_type": "code",
   "execution_count": 31,
   "metadata": {},
   "outputs": [
    {
     "name": "stdout",
     "output_type": "stream",
     "text": [
      "['kyrgyzstan', 'swaziland']\n"
     ]
    }
   ],
   "source": [
    "#Se obtienen las diferencias entre los diferentes paises\n",
    "try:\n",
    "    diferencia = set(pd.unique(df_onu_data[\"Country\"]).tolist()) - set(pd.unique(df_gdp_data[\"Country\"]).tolist()) \n",
    "    print(sorted(diferencia))\n",
    "except:\n",
    "    print(\"Error al encontrar las diferencias entre los archivos\")"
   ]
  },
  {
   "cell_type": "code",
   "execution_count": 5,
   "metadata": {},
   "outputs": [],
   "source": [
    "#Se limpia la informacion de acuerdo a las diferencias\n",
    "# Se limpia el dataframe de la ONU\n",
    "try:\n",
    "    df_onu_data['Country'] = df_onu_data['Country'].str.lower() \n",
    "    df_onu_data['Country'] = df_onu_data['Country'].str.replace(r\"\\s+\\(.*\\)\",\"\")\n",
    "    df_onu_data['Country'] = df_onu_data['Country'].str.replace(r\"\\s+\\[.*\\]\",\"\")\n",
    "    df_onu_data['Country'] = df_onu_data['Country'].str.replace(r\"\\[.*\\]\",\"\")\n",
    "\n",
    "    # Se limpia el dataframe de el PIB\n",
    "    df_gdp_data['Country'] = df_gdp_data['Country'].str.lower() \n",
    "    df_gdp_data['Country'] = df_gdp_data['Country'].str.replace(\"bahamas, the\",\"bahamas\")\n",
    "    df_gdp_data['Country'] = df_gdp_data['Country'].str.replace(\"cabo verde\",\"cape verde\")\n",
    "    df_gdp_data['Country'] = df_gdp_data['Country'].str.replace(\"congo, rep.\",\"congo\")\n",
    "    df_gdp_data['Country'] = df_gdp_data['Country'].str.replace(\"cote d'ivoire\",\"côte d’ivoire\")\n",
    "    df_gdp_data['Country'] = df_gdp_data['Country'].str.replace(\"congo, dem. rep.\",\"democratic republic of the congo\")\n",
    "\n",
    "    df_gdp_data['Country'] = df_gdp_data['Country'].str.replace(\"korea, rep.\",\"republic of korea\")\n",
    "    df_gdp_data['Country'] = df_gdp_data['Country'].str.replace(\"korea, dem. people’s rep.\",\"democratic people’s republic of korea\")\n",
    "    df_gdp_data['Country'] = df_gdp_data['Country'].str.replace(\"egypt, arab rep.\",\"egypt\")\n",
    "    df_gdp_data['Country'] = df_gdp_data['Country'].str.replace(\"gambia, the\",\"gambia\")\n",
    "    df_gdp_data['Country'] = df_gdp_data['Country'].str.replace(\"iran, islamic rep.\",\"iran\")\n",
    "    df_gdp_data['Country'] = df_gdp_data['Country'].str.replace(\"lao pdr\",\"lao people’s democratic republic\")\n",
    "    df_gdp_data['Country'] = df_gdp_data['Country'].str.replace(\"macedonia, fyr\",\"the former yugoslav republic of macedonia\")\n",
    "    df_gdp_data['Country'] = df_gdp_data['Country'].str.replace(\"micronesia, fed. sts.\",\"micronesia\")\n",
    "\n",
    "    df_gdp_data['Country'] = df_gdp_data['Country'].str.replace(\"moldova\",\"republic of moldova\")\n",
    "    df_gdp_data['Country'] = df_gdp_data['Country'].str.replace(\"syrian arab republic\",\"syria\")\n",
    "    df_gdp_data['Country'] = df_gdp_data['Country'].str.replace(\"slovak republic\",\"slovakia\")\n",
    "    df_gdp_data['Country'] = df_gdp_data['Country'].str.replace(\"st. vincent and the grenadines\",\"saint vincent and the grenadines\")\n",
    "\n",
    "    df_gdp_data['Country'] = df_gdp_data['Country'].str.replace(\"st. lucia\",\"saint lucia\")\n",
    "    df_gdp_data['Country'] = df_gdp_data['Country'].str.replace(\"st. kitts and nevis\",\"saint kitts and nevis\")\n",
    "    df_gdp_data['Country'] = df_gdp_data['Country'].str.replace(\"tanzania\",\"united of republic of tanzania\")\n",
    "    df_gdp_data['Country'] = df_gdp_data['Country'].str.replace(\"timor-leste\",\"timor leste\")\n",
    "    df_gdp_data['Country'] = df_gdp_data['Country'].str.replace(\"vietnam\",\"viet nam\")\n",
    "    df_gdp_data['Country'] = df_gdp_data['Country'].str.replace(\"venezuela, rb\",\"venezuela\")\n",
    "    df_gdp_data['Country'] = df_gdp_data['Country'].str.replace(\"yemen, rep.\",\"yemen\")\n",
    "except:\n",
    "    print(\"Error al renombrar los datos\")"
   ]
  },
  {
   "cell_type": "code",
   "execution_count": 6,
   "metadata": {},
   "outputs": [
    {
     "name": "stdout",
     "output_type": "stream",
     "text": [
      "['kyrgyzstan', 'swaziland']\n"
     ]
    }
   ],
   "source": [
    "#Se vuelve a validar las diferencias en los paises\n",
    "try:\n",
    "    diferencia = set(pd.unique(df_onu_data[\"Country\"]).tolist()) - set(pd.unique(df_gdp_data[\"Country\"]).tolist()) \n",
    "    print(sorted(diferencia))\n",
    "except:\n",
    "    print(\"Error al encontrar la diferencia entre los paises\")"
   ]
  },
  {
   "cell_type": "markdown",
   "metadata": {},
   "source": [
    "# Shift Data"
   ]
  },
  {
   "cell_type": "code",
   "execution_count": 7,
   "metadata": {},
   "outputs": [
    {
     "data": {
      "text/html": [
       "<div>\n",
       "<style scoped>\n",
       "    .dataframe tbody tr th:only-of-type {\n",
       "        vertical-align: middle;\n",
       "    }\n",
       "\n",
       "    .dataframe tbody tr th {\n",
       "        vertical-align: top;\n",
       "    }\n",
       "\n",
       "    .dataframe thead th {\n",
       "        text-align: right;\n",
       "    }\n",
       "</style>\n",
       "<table border=\"1\" class=\"dataframe\">\n",
       "  <thead>\n",
       "    <tr style=\"text-align: right;\">\n",
       "      <th></th>\n",
       "      <th></th>\n",
       "      <th>Indicator Name</th>\n",
       "      <th>Country Code</th>\n",
       "      <th>Indicator Code</th>\n",
       "      <th>PIB</th>\n",
       "    </tr>\n",
       "    <tr>\n",
       "      <th>Country</th>\n",
       "      <th>Year</th>\n",
       "      <th></th>\n",
       "      <th></th>\n",
       "      <th></th>\n",
       "      <th></th>\n",
       "    </tr>\n",
       "  </thead>\n",
       "  <tbody>\n",
       "    <tr>\n",
       "      <th>aruba</th>\n",
       "      <th>1960</th>\n",
       "      <td>GDP growth (annual %)</td>\n",
       "      <td>ABW</td>\n",
       "      <td>NY.GDP.MKTP.KD.ZG</td>\n",
       "      <td>NaN</td>\n",
       "    </tr>\n",
       "    <tr>\n",
       "      <th>afghanistan</th>\n",
       "      <th>1960</th>\n",
       "      <td>GDP growth (annual %)</td>\n",
       "      <td>AFG</td>\n",
       "      <td>NY.GDP.MKTP.KD.ZG</td>\n",
       "      <td>NaN</td>\n",
       "    </tr>\n",
       "    <tr>\n",
       "      <th>angola</th>\n",
       "      <th>1960</th>\n",
       "      <td>GDP growth (annual %)</td>\n",
       "      <td>AGO</td>\n",
       "      <td>NY.GDP.MKTP.KD.ZG</td>\n",
       "      <td>NaN</td>\n",
       "    </tr>\n",
       "    <tr>\n",
       "      <th>albania</th>\n",
       "      <th>1960</th>\n",
       "      <td>GDP growth (annual %)</td>\n",
       "      <td>ALB</td>\n",
       "      <td>NY.GDP.MKTP.KD.ZG</td>\n",
       "      <td>NaN</td>\n",
       "    </tr>\n",
       "    <tr>\n",
       "      <th>andorra</th>\n",
       "      <th>1960</th>\n",
       "      <td>GDP growth (annual %)</td>\n",
       "      <td>AND</td>\n",
       "      <td>NY.GDP.MKTP.KD.ZG</td>\n",
       "      <td>NaN</td>\n",
       "    </tr>\n",
       "  </tbody>\n",
       "</table>\n",
       "</div>"
      ],
      "text/plain": [
       "                         Indicator Name Country Code     Indicator Code  PIB\n",
       "Country     Year                                                            \n",
       "aruba       1960  GDP growth (annual %)          ABW  NY.GDP.MKTP.KD.ZG  NaN\n",
       "afghanistan 1960  GDP growth (annual %)          AFG  NY.GDP.MKTP.KD.ZG  NaN\n",
       "angola      1960  GDP growth (annual %)          AGO  NY.GDP.MKTP.KD.ZG  NaN\n",
       "albania     1960  GDP growth (annual %)          ALB  NY.GDP.MKTP.KD.ZG  NaN\n",
       "andorra     1960  GDP growth (annual %)          AND  NY.GDP.MKTP.KD.ZG  NaN"
      ]
     },
     "execution_count": 7,
     "metadata": {},
     "output_type": "execute_result"
    }
   ],
   "source": [
    "try:\n",
    "    # Se quitan las ultimas columnas para que coincidan con los años\n",
    "    df_gdp_data.drop(df_gdp_data.columns[[-1, -2, -3, -4, -5, -6]], axis=1, inplace=True)\n",
    "    df_gdp_data.set_index(\"Country\")\n",
    "\n",
    "    # Se agrupa el data frame del PIB para tener la misma estructura que el de la ONU\n",
    "    df_pib = pd.wide_to_long(df_gdp_data, [\"PIB\"], i=\"Country\", j=\"Year\")\n",
    "    df_pib.head(5)\n",
    "except:\n",
    "    print(\"Error al quitar las columnas y hacer la transformación entre columnas y renglones\")"
   ]
  },
  {
   "cell_type": "code",
   "execution_count": 8,
   "metadata": {},
   "outputs": [],
   "source": [
    "# Se resetea el indice del nuevo dataframe\n",
    "try:\n",
    "    df_pib = df_pib.reset_index()\n",
    "except:\n",
    "    print(\"Error al re-indexar el dataframe\")"
   ]
  },
  {
   "cell_type": "code",
   "execution_count": 9,
   "metadata": {},
   "outputs": [
    {
     "data": {
      "text/html": [
       "<div>\n",
       "<style scoped>\n",
       "    .dataframe tbody tr th:only-of-type {\n",
       "        vertical-align: middle;\n",
       "    }\n",
       "\n",
       "    .dataframe tbody tr th {\n",
       "        vertical-align: top;\n",
       "    }\n",
       "\n",
       "    .dataframe thead th {\n",
       "        text-align: right;\n",
       "    }\n",
       "</style>\n",
       "<table border=\"1\" class=\"dataframe\">\n",
       "  <thead>\n",
       "    <tr style=\"text-align: right;\">\n",
       "      <th></th>\n",
       "      <th>Country</th>\n",
       "      <th>Year</th>\n",
       "      <th>Indicator Name</th>\n",
       "      <th>Country Code</th>\n",
       "      <th>Indicator Code</th>\n",
       "      <th>PIB</th>\n",
       "    </tr>\n",
       "  </thead>\n",
       "  <tbody>\n",
       "    <tr>\n",
       "      <th>0</th>\n",
       "      <td>aruba</td>\n",
       "      <td>1960</td>\n",
       "      <td>GDP growth (annual %)</td>\n",
       "      <td>ABW</td>\n",
       "      <td>NY.GDP.MKTP.KD.ZG</td>\n",
       "      <td>NaN</td>\n",
       "    </tr>\n",
       "    <tr>\n",
       "      <th>1</th>\n",
       "      <td>afghanistan</td>\n",
       "      <td>1960</td>\n",
       "      <td>GDP growth (annual %)</td>\n",
       "      <td>AFG</td>\n",
       "      <td>NY.GDP.MKTP.KD.ZG</td>\n",
       "      <td>NaN</td>\n",
       "    </tr>\n",
       "    <tr>\n",
       "      <th>2</th>\n",
       "      <td>angola</td>\n",
       "      <td>1960</td>\n",
       "      <td>GDP growth (annual %)</td>\n",
       "      <td>AGO</td>\n",
       "      <td>NY.GDP.MKTP.KD.ZG</td>\n",
       "      <td>NaN</td>\n",
       "    </tr>\n",
       "    <tr>\n",
       "      <th>3</th>\n",
       "      <td>albania</td>\n",
       "      <td>1960</td>\n",
       "      <td>GDP growth (annual %)</td>\n",
       "      <td>ALB</td>\n",
       "      <td>NY.GDP.MKTP.KD.ZG</td>\n",
       "      <td>NaN</td>\n",
       "    </tr>\n",
       "    <tr>\n",
       "      <th>4</th>\n",
       "      <td>andorra</td>\n",
       "      <td>1960</td>\n",
       "      <td>GDP growth (annual %)</td>\n",
       "      <td>AND</td>\n",
       "      <td>NY.GDP.MKTP.KD.ZG</td>\n",
       "      <td>NaN</td>\n",
       "    </tr>\n",
       "  </tbody>\n",
       "</table>\n",
       "</div>"
      ],
      "text/plain": [
       "       Country  Year         Indicator Name Country Code     Indicator Code  \\\n",
       "0        aruba  1960  GDP growth (annual %)          ABW  NY.GDP.MKTP.KD.ZG   \n",
       "1  afghanistan  1960  GDP growth (annual %)          AFG  NY.GDP.MKTP.KD.ZG   \n",
       "2       angola  1960  GDP growth (annual %)          AGO  NY.GDP.MKTP.KD.ZG   \n",
       "3      albania  1960  GDP growth (annual %)          ALB  NY.GDP.MKTP.KD.ZG   \n",
       "4      andorra  1960  GDP growth (annual %)          AND  NY.GDP.MKTP.KD.ZG   \n",
       "\n",
       "   PIB  \n",
       "0  NaN  \n",
       "1  NaN  \n",
       "2  NaN  \n",
       "3  NaN  \n",
       "4  NaN  "
      ]
     },
     "execution_count": 9,
     "metadata": {},
     "output_type": "execute_result"
    }
   ],
   "source": [
    "# Se exporta la información del PIB\n",
    "try:\n",
    "    df_pib.to_csv(file_name, encoding='utf-8', index=False)\n",
    "    df_pib.head(5)\n",
    "except:\n",
    "    print(\"Error al almacenar el archivo excel en disco\")"
   ]
  },
  {
   "cell_type": "code",
   "execution_count": 29,
   "metadata": {},
   "outputs": [
    {
     "name": "stdout",
     "output_type": "stream",
     "text": [
      "Please select year you'd like to analyze PIB: a\n"
     ]
    },
    {
     "ename": "ValueError",
     "evalue": "invalid literal for int() with base 10: 'a'",
     "output_type": "error",
     "traceback": [
      "\u001b[1;31m---------------------------------------------------------------------------\u001b[0m",
      "\u001b[1;31mValueError\u001b[0m                                Traceback (most recent call last)",
      "\u001b[1;32m<ipython-input-29-5f535aa5dbe0>\u001b[0m in \u001b[0;36m<module>\u001b[1;34m\u001b[0m\n\u001b[0;32m      2\u001b[0m \u001b[0myear\u001b[0m \u001b[1;33m=\u001b[0m \u001b[0minput\u001b[0m \u001b[1;33m(\u001b[0m\u001b[1;34m\"Please select year you'd like to analyze PIB: \"\u001b[0m\u001b[1;33m)\u001b[0m\u001b[1;33m.\u001b[0m\u001b[0mlower\u001b[0m\u001b[1;33m(\u001b[0m\u001b[1;33m)\u001b[0m\u001b[1;33m\u001b[0m\u001b[1;33m\u001b[0m\u001b[0m\n\u001b[0;32m      3\u001b[0m \u001b[1;33m\u001b[0m\u001b[0m\n\u001b[1;32m----> 4\u001b[1;33m \u001b[0mdf_top_country_pib\u001b[0m \u001b[1;33m=\u001b[0m \u001b[0mdf_pib\u001b[0m\u001b[1;33m[\u001b[0m\u001b[0mdf_pib\u001b[0m\u001b[1;33m[\u001b[0m\u001b[1;34m'Year'\u001b[0m\u001b[1;33m]\u001b[0m \u001b[1;33m==\u001b[0m \u001b[0mint\u001b[0m\u001b[1;33m(\u001b[0m\u001b[0myear\u001b[0m\u001b[1;33m)\u001b[0m\u001b[1;33m]\u001b[0m\u001b[1;33m\u001b[0m\u001b[1;33m\u001b[0m\u001b[0m\n\u001b[0m\u001b[0;32m      5\u001b[0m \u001b[1;33m\u001b[0m\u001b[0m\n\u001b[0;32m      6\u001b[0m \u001b[0mdf_top_country_pib\u001b[0m \u001b[1;33m=\u001b[0m \u001b[0mdf_top_country_pib\u001b[0m\u001b[1;33m.\u001b[0m\u001b[0msort_values\u001b[0m\u001b[1;33m(\u001b[0m\u001b[0mby\u001b[0m\u001b[1;33m=\u001b[0m\u001b[1;33m[\u001b[0m\u001b[1;34m'PIB'\u001b[0m\u001b[1;33m]\u001b[0m\u001b[1;33m,\u001b[0m \u001b[0mascending\u001b[0m\u001b[1;33m=\u001b[0m\u001b[1;32mFalse\u001b[0m\u001b[1;33m)\u001b[0m\u001b[1;33m\u001b[0m\u001b[1;33m\u001b[0m\u001b[0m\n",
      "\u001b[1;31mValueError\u001b[0m: invalid literal for int() with base 10: 'a'"
     ]
    }
   ],
   "source": [
    "# Top 5 de paises con mejor PIB\n",
    "try:\n",
    "    year = input (\"Please select year you'd like to analyze PIB: \").lower()\n",
    "    df_top_country_pib = df_pib[df_pib['Year'] == int(year)]\n",
    "    df_top_country_pib = df_top_country_pib.sort_values(by=['PIB'], ascending=False)\n",
    "    df_top_country_pib.head(5)\n",
    "except:\n",
    "    print(\"Error al obtener el top 5 de las mejores tasas de los paises, verifique que el año sea un numero entero\")"
   ]
  },
  {
   "cell_type": "markdown",
   "metadata": {},
   "source": [
    "# Showing information about PIB "
   ]
  },
  {
   "cell_type": "code",
   "execution_count": 10,
   "metadata": {},
   "outputs": [
    {
     "name": "stdout",
     "output_type": "stream",
     "text": [
      "Please type the country you would like to analyze: mexico\n"
     ]
    },
    {
     "data": {
      "image/png": "[encoded data removed]",
      "text/plain": [
       "<Figure size 432x288 with 1 Axes>"
      ]
     },
     "metadata": {
      "needs_background": "light"
     },
     "output_type": "display_data"
    }
   ],
   "source": [
    "try:\n",
    "    country = input (\"Please type the country you would like to analyze: \").lower()\n",
    "    country_plt = df_pib[df_pib['Country'] == country]\n",
    "    plt.plot(country_plt['Year'], country_plt['PIB'], marker ='o', color='g', label=\"RATE OF PIB\",\n",
    "             linestyle='solid', linewidth=1, markersize=6 )\n",
    "    plt.legend(loc=\"lower right\")\n",
    "    plt.title(\"RATE OF PIB\")\n",
    "    plt.xlabel(\"Years\")\n",
    "    plt.ylabel(\"% PIB\")\n",
    "    plt.grid(True)\n",
    "    plt.show()\n",
    "except:\n",
    "    print(\"Error al realizar la grafica\")"
   ]
  },
  {
   "cell_type": "markdown",
   "metadata": {},
   "source": [
    "# PIB VS POP"
   ]
  },
  {
   "cell_type": "code",
   "execution_count": 11,
   "metadata": {},
   "outputs": [],
   "source": [
    "# Cargar la ruta de archivo PIB\n",
    "try:\n",
    "    poblation_data_to_load = \"../Resources/POP.csv\"\n",
    "    # Lee los archivos y almacenarlos en un dataframe\n",
    "    df_pop = pd.read_csv(poblation_data_to_load)\n",
    "except:\n",
    "    print(\"Error al cargar los dataset\")"
   ]
  },
  {
   "cell_type": "code",
   "execution_count": 12,
   "metadata": {},
   "outputs": [
    {
     "data": {
      "text/html": [
       "<div>\n",
       "<style scoped>\n",
       "    .dataframe tbody tr th:only-of-type {\n",
       "        vertical-align: middle;\n",
       "    }\n",
       "\n",
       "    .dataframe tbody tr th {\n",
       "        vertical-align: top;\n",
       "    }\n",
       "\n",
       "    .dataframe thead th {\n",
       "        text-align: right;\n",
       "    }\n",
       "</style>\n",
       "<table border=\"1\" class=\"dataframe\">\n",
       "  <thead>\n",
       "    <tr style=\"text-align: right;\">\n",
       "      <th></th>\n",
       "      <th>Country</th>\n",
       "      <th>Year</th>\n",
       "      <th>Indicator Name_x</th>\n",
       "      <th>Country Code_x</th>\n",
       "      <th>Indicator Code_x</th>\n",
       "      <th>PIB</th>\n",
       "      <th>Indicator Code_y</th>\n",
       "      <th>Indicator Name_y</th>\n",
       "      <th>Country Code_y</th>\n",
       "      <th>POP</th>\n",
       "    </tr>\n",
       "  </thead>\n",
       "  <tbody>\n",
       "    <tr>\n",
       "      <th>0</th>\n",
       "      <td>aruba</td>\n",
       "      <td>1960</td>\n",
       "      <td>GDP growth (annual %)</td>\n",
       "      <td>ABW</td>\n",
       "      <td>NY.GDP.MKTP.KD.ZG</td>\n",
       "      <td>NaN</td>\n",
       "      <td>SP.POP.GROW</td>\n",
       "      <td>Population growth (annual %)</td>\n",
       "      <td>ABW</td>\n",
       "      <td>3.148037</td>\n",
       "    </tr>\n",
       "    <tr>\n",
       "      <th>1</th>\n",
       "      <td>afghanistan</td>\n",
       "      <td>1960</td>\n",
       "      <td>GDP growth (annual %)</td>\n",
       "      <td>AFG</td>\n",
       "      <td>NY.GDP.MKTP.KD.ZG</td>\n",
       "      <td>NaN</td>\n",
       "      <td>SP.POP.GROW</td>\n",
       "      <td>Population growth (annual %)</td>\n",
       "      <td>AFG</td>\n",
       "      <td>1.816077</td>\n",
       "    </tr>\n",
       "    <tr>\n",
       "      <th>2</th>\n",
       "      <td>angola</td>\n",
       "      <td>1960</td>\n",
       "      <td>GDP growth (annual %)</td>\n",
       "      <td>AGO</td>\n",
       "      <td>NY.GDP.MKTP.KD.ZG</td>\n",
       "      <td>NaN</td>\n",
       "      <td>SP.POP.GROW</td>\n",
       "      <td>Population growth (annual %)</td>\n",
       "      <td>AGO</td>\n",
       "      <td>1.903517</td>\n",
       "    </tr>\n",
       "    <tr>\n",
       "      <th>3</th>\n",
       "      <td>albania</td>\n",
       "      <td>1960</td>\n",
       "      <td>GDP growth (annual %)</td>\n",
       "      <td>ALB</td>\n",
       "      <td>NY.GDP.MKTP.KD.ZG</td>\n",
       "      <td>NaN</td>\n",
       "      <td>SP.POP.GROW</td>\n",
       "      <td>Population growth (annual %)</td>\n",
       "      <td>ALB</td>\n",
       "      <td>3.015423</td>\n",
       "    </tr>\n",
       "    <tr>\n",
       "      <th>4</th>\n",
       "      <td>andorra</td>\n",
       "      <td>1960</td>\n",
       "      <td>GDP growth (annual %)</td>\n",
       "      <td>AND</td>\n",
       "      <td>NY.GDP.MKTP.KD.ZG</td>\n",
       "      <td>NaN</td>\n",
       "      <td>SP.POP.GROW</td>\n",
       "      <td>Population growth (annual %)</td>\n",
       "      <td>AND</td>\n",
       "      <td>7.050663</td>\n",
       "    </tr>\n",
       "  </tbody>\n",
       "</table>\n",
       "</div>"
      ],
      "text/plain": [
       "       Country  Year       Indicator Name_x Country Code_x   Indicator Code_x  \\\n",
       "0        aruba  1960  GDP growth (annual %)            ABW  NY.GDP.MKTP.KD.ZG   \n",
       "1  afghanistan  1960  GDP growth (annual %)            AFG  NY.GDP.MKTP.KD.ZG   \n",
       "2       angola  1960  GDP growth (annual %)            AGO  NY.GDP.MKTP.KD.ZG   \n",
       "3      albania  1960  GDP growth (annual %)            ALB  NY.GDP.MKTP.KD.ZG   \n",
       "4      andorra  1960  GDP growth (annual %)            AND  NY.GDP.MKTP.KD.ZG   \n",
       "\n",
       "   PIB Indicator Code_y              Indicator Name_y Country Code_y       POP  \n",
       "0  NaN      SP.POP.GROW  Population growth (annual %)            ABW  3.148037  \n",
       "1  NaN      SP.POP.GROW  Population growth (annual %)            AFG  1.816077  \n",
       "2  NaN      SP.POP.GROW  Population growth (annual %)            AGO  1.903517  \n",
       "3  NaN      SP.POP.GROW  Population growth (annual %)            ALB  3.015423  \n",
       "4  NaN      SP.POP.GROW  Population growth (annual %)            AND  7.050663  "
      ]
     },
     "execution_count": 12,
     "metadata": {},
     "output_type": "execute_result"
    }
   ],
   "source": [
    "# Realizar el marge entre los dos dataframes\n",
    "try:\n",
    "    df_pop_country = pd.merge(df_pib, df_pop, on=['Country','Year'])\n",
    "    df_pop_country.head(5)\n",
    "except:\n",
    "    print(\"Error al realizar el merge\")"
   ]
  },
  {
   "cell_type": "code",
   "execution_count": 13,
   "metadata": {},
   "outputs": [
    {
     "name": "stdout",
     "output_type": "stream",
     "text": [
      "Please type the country you would like to analyze: mexico\n"
     ]
    },
    {
     "data": {
      "image/png": "[encoded data removed]",
      "text/plain": [
       "<Figure size 432x288 with 1 Axes>"
      ]
     },
     "metadata": {
      "needs_background": "light"
     },
     "output_type": "display_data"
    }
   ],
   "source": [
    "try:\n",
    "    country = input (\"Please type the country you would like to analyze: \").lower()\n",
    "    country_pop_pip_plt = df_pop_country[df_pop_country['Country'] == country]\n",
    "    country_pop_pip_plt\n",
    "\n",
    "    plt.plot(country_pop_pip_plt['POP'], country_pop_pip_plt['PIB'], marker ='x', color='b', label=\"PIB vs POP\",\n",
    "         linestyle='solid', linewidth=1, markersize=6 )\n",
    "\n",
    "    plt.legend(loc=\"lower right\")\n",
    "    plt.title(\"PIB VS POP\")\n",
    "    plt.xlabel(\"POP\")\n",
    "    plt.ylabel(\"% PIB\")\n",
    "    plt.grid(True)\n",
    "    plt.show()\n",
    "except:\n",
    "    print(\"Error al graficar el PIB vs POP\")"
   ]
  },
  {
   "cell_type": "markdown",
   "metadata": {},
   "source": [
    "# Dynamic Plot"
   ]
  },
  {
   "cell_type": "code",
   "execution_count": 14,
   "metadata": {},
   "outputs": [],
   "source": [
    "from ipywidgets import widgets, interactive"
   ]
  },
  {
   "cell_type": "code",
   "execution_count": 15,
   "metadata": {},
   "outputs": [],
   "source": [
    "# Se crea un dropdown list de las ciudades\n",
    "try:\n",
    "    drop_country = widgets.Dropdown(\n",
    "        options= ['All'] + list(df_pop_country['Country'].unique()),\n",
    "        value='All',\n",
    "        description='Country:',\n",
    "    )\n",
    "\n",
    "    # Se crea un dropdown del año inicial\n",
    "    drop_start_year = widgets.Dropdown(\n",
    "        options= list(df_pop_country['Year'].unique()),\n",
    "        value = df_pop_country['Year'].min(),\n",
    "        description='Start Year:',\n",
    "    )\n",
    "\n",
    "    # Se crea un dropdown del año final\n",
    "    drop_end_year = widgets.Dropdown(\n",
    "        options= ['All'] + list(df_pop_country['Year'].unique()),\n",
    "        value= df_pop_country['Year'].max(),\n",
    "        description='End Year:',\n",
    "    )\n",
    "except:\n",
    "    print(\"Error al declarar los dropdows list\")"
   ]
  },
  {
   "cell_type": "code",
   "execution_count": 32,
   "metadata": {},
   "outputs": [],
   "source": [
    "try:\n",
    "    def plotit(drop_country, drop_start_year, drop_end_year):\n",
    "        country_pop_pip_plt_2 = df_pop_country.copy()\n",
    "    \n",
    "        if drop_country != 'All':\n",
    "            country_pop_pip_plt_2 = country_pop_pip_plt_2[country_pop_pip_plt_2.Country == drop_country]\n",
    "\n",
    "        # Filtra el maximo y el minimo\n",
    "        country_pop_pip_plt_2 = country_pop_pip_plt_2[(country_pop_pip_plt_2.Year >= drop_start_year) & (country_pop_pip_plt_2.Year <= drop_end_year)]\n",
    "\n",
    "        country_pop_pip_plt_2[\"POP\"] = pd.to_numeric(country_pop_pip_plt_2[\"POP\"])\n",
    "        country_pop_pip_plt_2[\"PIB\"] = pd.to_numeric(country_pop_pip_plt_2[\"PIB\"])\n",
    "    \n",
    "        country_pop_pip_plt_2 = country_pop_pip_plt_2.reset_index()\n",
    "    \n",
    "        country_pop_pip_plt_2.plot(kind='scatter', x='POP', y='PIB', stacked=True, title=\"Country = {}\".format(drop_country),\n",
    "                                     marker ='x', color='b', label=\"PIB vs POP\",  linestyle='solid', linewidth=1 )\n",
    "        plt.show();\n",
    "except:\n",
    "    print(\"Error al realizar la grafica dinamica\")"
   ]
  },
  {
   "cell_type": "code",
   "execution_count": 33,
   "metadata": {},
   "outputs": [
    {
     "data": {
      "application/vnd.jupyter.widget-view+json": {
       "model_id": "1494c26cfe1343f8b3f70d07f138c8c9",
       "version_major": 2,
       "version_minor": 0
      },
      "text/plain": [
       "interactive(children=(Dropdown(description='Country:', index=9, options=('All', 'aruba', 'afghanistan', 'angol…"
      ]
     },
     "metadata": {},
     "output_type": "display_data"
    }
   ],
   "source": [
    "interactive(plotit, drop_country=drop_country, drop_start_year=drop_start_year, drop_end_year=drop_end_year)"
   ]
  },
  {
   "cell_type": "code",
   "execution_count": null,
   "metadata": {},
   "outputs": [],
   "source": []
  }
 ],
 "metadata": {
  "kernelspec": {
   "display_name": "Python 3",
   "language": "python",
   "name": "python3"
  },
  "language_info": {
   "codemirror_mode": {
    "name": "ipython",
    "version": 3
   },
   "file_extension": ".py",
   "mimetype": "text/x-python",
   "name": "python",
   "nbconvert_exporter": "python",
   "pygments_lexer": "ipython3",
   "version": "3.7.1"
  }
 },
 "nbformat": 4,
 "nbformat_minor": 2
}
