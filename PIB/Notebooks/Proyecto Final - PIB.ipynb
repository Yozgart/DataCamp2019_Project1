{
 "cells": [
  {
   "cell_type": "markdown",
   "metadata": {},
   "source": [
    "# Import Dependencies"
   ]
  },
  {
   "cell_type": "code",
   "execution_count": 1,
   "metadata": {},
   "outputs": [],
   "source": [
    "#importar las dependencias\n",
    "import os\n",
    "import csv\n",
    "import pandas as pd\n",
    "import numpy as np\n",
    "import matplotlib.pyplot as plt\n",
    "\n",
    "# Cargar la ruta de archivo PIB\n",
    "gdp_data_to_load = \"../Resources/GDP.csv\"\n",
    "\n",
    "# Cargar la ruta de catalogo paises\n",
    "onu_data_to_load = \"../Resources/ONU.csv\"\n",
    "\n",
    "# Establece el archivo de Salida\n",
    "file_name = \"../Resources/PIB.csv\""
   ]
  },
  {
   "cell_type": "markdown",
   "metadata": {},
   "source": [
    "# Read information"
   ]
  },
  {
   "cell_type": "code",
   "execution_count": 2,
   "metadata": {},
   "outputs": [],
   "source": [
    "# Lee los archivos y almacenarlos en un dataframe\n",
    "df_gdp_data = pd.read_csv(gdp_data_to_load)\n",
    "df_onu_data = pd.read_csv(onu_data_to_load)"
   ]
  },
  {
   "cell_type": "markdown",
   "metadata": {},
   "source": [
    "# Clean Data"
   ]
  },
  {
   "cell_type": "code",
   "execution_count": 3,
   "metadata": {},
   "outputs": [],
   "source": [
    "# Los datos fueron obtenidos desde el banco mundial:\n",
    "# http://datatopics.worldbank.org/world-development-indicators/themes/economy.html\n",
    "\n",
    "# Se renombran las columnas para generar una subnet\n",
    "df_gdp_data.rename(columns={'Country Name':'Country'}, inplace=True)"
   ]
  },
  {
   "cell_type": "code",
   "execution_count": 4,
   "metadata": {},
   "outputs": [],
   "source": [
    "#Se obtienen las diferencias entre los diferentes paises\n",
    "diferencia = set(pd.unique(df_onu_data[\"Country\"]).tolist()) - set(pd.unique(df_gdp_data[\"Country\"]).tolist()) "
   ]
  },
  {
   "cell_type": "code",
   "execution_count": 5,
   "metadata": {},
   "outputs": [],
   "source": [
    "#Se limpia la informacion de acuerdo a las diferencias\n",
    "# Se limpia el dataframe de la ONU\n",
    "df_onu_data['Country'] = df_onu_data['Country'].str.lower() \n",
    "df_onu_data['Country'] = df_onu_data['Country'].str.replace(r\"\\s+\\(.*\\)\",\"\")\n",
    "df_onu_data['Country'] = df_onu_data['Country'].str.replace(r\"\\s+\\[.*\\]\",\"\")\n",
    "df_onu_data['Country'] = df_onu_data['Country'].str.replace(r\"\\[.*\\]\",\"\")\n",
    "\n",
    "# Se limpia el dataframe de el PIB\n",
    "df_gdp_data['Country'] = df_gdp_data['Country'].str.lower() \n",
    "df_gdp_data['Country'] = df_gdp_data['Country'].str.replace(\"bahamas, the\",\"bahamas\")\n",
    "df_gdp_data['Country'] = df_gdp_data['Country'].str.replace(\"cabo verde\",\"cape verde\")\n",
    "df_gdp_data['Country'] = df_gdp_data['Country'].str.replace(\"congo, rep.\",\"congo\")\n",
    "df_gdp_data['Country'] = df_gdp_data['Country'].str.replace(\"cote d'ivoire\",\"côte d’ivoire\")\n",
    "df_gdp_data['Country'] = df_gdp_data['Country'].str.replace(\"congo, dem. rep.\",\"democratic republic of the congo\")\n",
    "\n",
    "df_gdp_data['Country'] = df_gdp_data['Country'].str.replace(\"korea, rep.\",\"republic of korea\")\n",
    "df_gdp_data['Country'] = df_gdp_data['Country'].str.replace(\"korea, dem. people’s rep.\",\"democratic people’s republic of korea\")\n",
    "df_gdp_data['Country'] = df_gdp_data['Country'].str.replace(\"egypt, arab rep.\",\"egypt\")\n",
    "df_gdp_data['Country'] = df_gdp_data['Country'].str.replace(\"gambia, the\",\"gambia\")\n",
    "df_gdp_data['Country'] = df_gdp_data['Country'].str.replace(\"iran, islamic rep.\",\"iran\")\n",
    "df_gdp_data['Country'] = df_gdp_data['Country'].str.replace(\"lao pdr\",\"lao people’s democratic republic\")\n",
    "df_gdp_data['Country'] = df_gdp_data['Country'].str.replace(\"macedonia, fyr\",\"the former yugoslav republic of macedonia\")\n",
    "df_gdp_data['Country'] = df_gdp_data['Country'].str.replace(\"micronesia, fed. sts.\",\"micronesia\")\n",
    "\n",
    "df_gdp_data['Country'] = df_gdp_data['Country'].str.replace(\"moldova\",\"republic of moldova\")\n",
    "df_gdp_data['Country'] = df_gdp_data['Country'].str.replace(\"syrian arab republic\",\"syria\")\n",
    "df_gdp_data['Country'] = df_gdp_data['Country'].str.replace(\"slovak republic\",\"slovakia\")\n",
    "df_gdp_data['Country'] = df_gdp_data['Country'].str.replace(\"st. vincent and the grenadines\",\"saint vincent and the grenadines\")\n",
    "\n",
    "df_gdp_data['Country'] = df_gdp_data['Country'].str.replace(\"st. lucia\",\"saint lucia\")\n",
    "df_gdp_data['Country'] = df_gdp_data['Country'].str.replace(\"st. kitts and nevis\",\"saint kitts and nevis\")\n",
    "df_gdp_data['Country'] = df_gdp_data['Country'].str.replace(\"tanzania\",\"united of republic of tanzania\")\n",
    "df_gdp_data['Country'] = df_gdp_data['Country'].str.replace(\"timor-leste\",\"timor leste\")\n",
    "df_gdp_data['Country'] = df_gdp_data['Country'].str.replace(\"vietnam\",\"viet nam\")\n",
    "df_gdp_data['Country'] = df_gdp_data['Country'].str.replace(\"venezuela, rb\",\"venezuela\")\n",
    "df_gdp_data['Country'] = df_gdp_data['Country'].str.replace(\"yemen, rep.\",\"yemen\")"
   ]
  },
  {
   "cell_type": "code",
   "execution_count": 6,
   "metadata": {},
   "outputs": [
    {
     "name": "stdout",
     "output_type": "stream",
     "text": [
      "['kyrgyzstan', 'swaziland']\n"
     ]
    }
   ],
   "source": [
    "#Se vuelve a validar las diferencias en los paises\n",
    "diferencia = set(pd.unique(df_onu_data[\"Country\"]).tolist()) - set(pd.unique(df_gdp_data[\"Country\"]).tolist()) \n",
    "print(sorted(diferencia))"
   ]
  },
  {
   "cell_type": "markdown",
   "metadata": {},
   "source": [
    "# Shift Data"
   ]
  },
  {
   "cell_type": "code",
   "execution_count": 7,
   "metadata": {},
   "outputs": [
    {
     "data": {
      "text/html": [
       "<div>\n",
       "<style scoped>\n",
       "    .dataframe tbody tr th:only-of-type {\n",
       "        vertical-align: middle;\n",
       "    }\n",
       "\n",
       "    .dataframe tbody tr th {\n",
       "        vertical-align: top;\n",
       "    }\n",
       "\n",
       "    .dataframe thead th {\n",
       "        text-align: right;\n",
       "    }\n",
       "</style>\n",
       "<table border=\"1\" class=\"dataframe\">\n",
       "  <thead>\n",
       "    <tr style=\"text-align: right;\">\n",
       "      <th></th>\n",
       "      <th></th>\n",
       "      <th>Country Code</th>\n",
       "      <th>Indicator Name</th>\n",
       "      <th>Indicator Code</th>\n",
       "      <th>PIB</th>\n",
       "    </tr>\n",
       "    <tr>\n",
       "      <th>Country</th>\n",
       "      <th>Year</th>\n",
       "      <th></th>\n",
       "      <th></th>\n",
       "      <th></th>\n",
       "      <th></th>\n",
       "    </tr>\n",
       "  </thead>\n",
       "  <tbody>\n",
       "    <tr>\n",
       "      <th>aruba</th>\n",
       "      <th>1960</th>\n",
       "      <td>ABW</td>\n",
       "      <td>GDP growth (annual %)</td>\n",
       "      <td>NY.GDP.MKTP.KD.ZG</td>\n",
       "      <td>NaN</td>\n",
       "    </tr>\n",
       "    <tr>\n",
       "      <th>afghanistan</th>\n",
       "      <th>1960</th>\n",
       "      <td>AFG</td>\n",
       "      <td>GDP growth (annual %)</td>\n",
       "      <td>NY.GDP.MKTP.KD.ZG</td>\n",
       "      <td>NaN</td>\n",
       "    </tr>\n",
       "    <tr>\n",
       "      <th>angola</th>\n",
       "      <th>1960</th>\n",
       "      <td>AGO</td>\n",
       "      <td>GDP growth (annual %)</td>\n",
       "      <td>NY.GDP.MKTP.KD.ZG</td>\n",
       "      <td>NaN</td>\n",
       "    </tr>\n",
       "    <tr>\n",
       "      <th>albania</th>\n",
       "      <th>1960</th>\n",
       "      <td>ALB</td>\n",
       "      <td>GDP growth (annual %)</td>\n",
       "      <td>NY.GDP.MKTP.KD.ZG</td>\n",
       "      <td>NaN</td>\n",
       "    </tr>\n",
       "    <tr>\n",
       "      <th>andorra</th>\n",
       "      <th>1960</th>\n",
       "      <td>AND</td>\n",
       "      <td>GDP growth (annual %)</td>\n",
       "      <td>NY.GDP.MKTP.KD.ZG</td>\n",
       "      <td>NaN</td>\n",
       "    </tr>\n",
       "  </tbody>\n",
       "</table>\n",
       "</div>"
      ],
      "text/plain": [
       "                 Country Code         Indicator Name     Indicator Code  PIB\n",
       "Country     Year                                                            \n",
       "aruba       1960          ABW  GDP growth (annual %)  NY.GDP.MKTP.KD.ZG  NaN\n",
       "afghanistan 1960          AFG  GDP growth (annual %)  NY.GDP.MKTP.KD.ZG  NaN\n",
       "angola      1960          AGO  GDP growth (annual %)  NY.GDP.MKTP.KD.ZG  NaN\n",
       "albania     1960          ALB  GDP growth (annual %)  NY.GDP.MKTP.KD.ZG  NaN\n",
       "andorra     1960          AND  GDP growth (annual %)  NY.GDP.MKTP.KD.ZG  NaN"
      ]
     },
     "execution_count": 7,
     "metadata": {},
     "output_type": "execute_result"
    }
   ],
   "source": [
    "# Se quitan las ultimas columnas para que coincidan con los años\n",
    "df_gdp_data.drop(df_gdp_data.columns[[-1, -2, -3, -4, -5, -6]], axis=1, inplace=True)\n",
    "df_gdp_data.set_index(\"Country\")\n",
    "\n",
    "# Se agrupa el data frame del PIB para tener la misma estructura que el de la ONU\n",
    "df_pib = pd.wide_to_long(df_gdp_data, [\"PIB\"], i=\"Country\", j=\"Year\")\n",
    "df_pib.head(5)"
   ]
  },
  {
   "cell_type": "code",
   "execution_count": 8,
   "metadata": {},
   "outputs": [],
   "source": [
    "# Se resetea el indice del nuevo dataframe\n",
    "df_pib = df_pib.reset_index()"
   ]
  },
  {
   "cell_type": "code",
   "execution_count": 9,
   "metadata": {},
   "outputs": [
    {
     "data": {
      "text/html": [
       "<div>\n",
       "<style scoped>\n",
       "    .dataframe tbody tr th:only-of-type {\n",
       "        vertical-align: middle;\n",
       "    }\n",
       "\n",
       "    .dataframe tbody tr th {\n",
       "        vertical-align: top;\n",
       "    }\n",
       "\n",
       "    .dataframe thead th {\n",
       "        text-align: right;\n",
       "    }\n",
       "</style>\n",
       "<table border=\"1\" class=\"dataframe\">\n",
       "  <thead>\n",
       "    <tr style=\"text-align: right;\">\n",
       "      <th></th>\n",
       "      <th>Country</th>\n",
       "      <th>Year</th>\n",
       "      <th>Country Code</th>\n",
       "      <th>Indicator Name</th>\n",
       "      <th>Indicator Code</th>\n",
       "      <th>PIB</th>\n",
       "    </tr>\n",
       "  </thead>\n",
       "  <tbody>\n",
       "    <tr>\n",
       "      <th>0</th>\n",
       "      <td>aruba</td>\n",
       "      <td>1960</td>\n",
       "      <td>ABW</td>\n",
       "      <td>GDP growth (annual %)</td>\n",
       "      <td>NY.GDP.MKTP.KD.ZG</td>\n",
       "      <td>NaN</td>\n",
       "    </tr>\n",
       "    <tr>\n",
       "      <th>1</th>\n",
       "      <td>afghanistan</td>\n",
       "      <td>1960</td>\n",
       "      <td>AFG</td>\n",
       "      <td>GDP growth (annual %)</td>\n",
       "      <td>NY.GDP.MKTP.KD.ZG</td>\n",
       "      <td>NaN</td>\n",
       "    </tr>\n",
       "    <tr>\n",
       "      <th>2</th>\n",
       "      <td>angola</td>\n",
       "      <td>1960</td>\n",
       "      <td>AGO</td>\n",
       "      <td>GDP growth (annual %)</td>\n",
       "      <td>NY.GDP.MKTP.KD.ZG</td>\n",
       "      <td>NaN</td>\n",
       "    </tr>\n",
       "    <tr>\n",
       "      <th>3</th>\n",
       "      <td>albania</td>\n",
       "      <td>1960</td>\n",
       "      <td>ALB</td>\n",
       "      <td>GDP growth (annual %)</td>\n",
       "      <td>NY.GDP.MKTP.KD.ZG</td>\n",
       "      <td>NaN</td>\n",
       "    </tr>\n",
       "    <tr>\n",
       "      <th>4</th>\n",
       "      <td>andorra</td>\n",
       "      <td>1960</td>\n",
       "      <td>AND</td>\n",
       "      <td>GDP growth (annual %)</td>\n",
       "      <td>NY.GDP.MKTP.KD.ZG</td>\n",
       "      <td>NaN</td>\n",
       "    </tr>\n",
       "  </tbody>\n",
       "</table>\n",
       "</div>"
      ],
      "text/plain": [
       "       Country  Year Country Code         Indicator Name     Indicator Code  \\\n",
       "0        aruba  1960          ABW  GDP growth (annual %)  NY.GDP.MKTP.KD.ZG   \n",
       "1  afghanistan  1960          AFG  GDP growth (annual %)  NY.GDP.MKTP.KD.ZG   \n",
       "2       angola  1960          AGO  GDP growth (annual %)  NY.GDP.MKTP.KD.ZG   \n",
       "3      albania  1960          ALB  GDP growth (annual %)  NY.GDP.MKTP.KD.ZG   \n",
       "4      andorra  1960          AND  GDP growth (annual %)  NY.GDP.MKTP.KD.ZG   \n",
       "\n",
       "   PIB  \n",
       "0  NaN  \n",
       "1  NaN  \n",
       "2  NaN  \n",
       "3  NaN  \n",
       "4  NaN  "
      ]
     },
     "execution_count": 9,
     "metadata": {},
     "output_type": "execute_result"
    }
   ],
   "source": [
    "# Se exporta la información del PIB\n",
    "df_pib.to_csv(file_name, encoding='utf-8', index=False)\n",
    "df_pib.head(5)"
   ]
  },
  {
   "cell_type": "code",
   "execution_count": 12,
   "metadata": {},
   "outputs": [
    {
     "name": "stdout",
     "output_type": "stream",
     "text": [
      "Please select year you'd like to analyze PIB: 2000\n"
     ]
    },
    {
     "data": {
      "text/html": [
       "<div>\n",
       "<style scoped>\n",
       "    .dataframe tbody tr th:only-of-type {\n",
       "        vertical-align: middle;\n",
       "    }\n",
       "\n",
       "    .dataframe tbody tr th {\n",
       "        vertical-align: top;\n",
       "    }\n",
       "\n",
       "    .dataframe thead th {\n",
       "        text-align: right;\n",
       "    }\n",
       "</style>\n",
       "<table border=\"1\" class=\"dataframe\">\n",
       "  <thead>\n",
       "    <tr style=\"text-align: right;\">\n",
       "      <th></th>\n",
       "      <th>Country</th>\n",
       "      <th>Year</th>\n",
       "      <th>Country Code</th>\n",
       "      <th>Indicator Name</th>\n",
       "      <th>Indicator Code</th>\n",
       "      <th>PIB</th>\n",
       "    </tr>\n",
       "  </thead>\n",
       "  <tbody>\n",
       "    <tr>\n",
       "      <th>10646</th>\n",
       "      <td>equatorial guinea</td>\n",
       "      <td>2000</td>\n",
       "      <td>GNQ</td>\n",
       "      <td>GDP growth (annual %)</td>\n",
       "      <td>NY.GDP.MKTP.KD.ZG</td>\n",
       "      <td>18.213780</td>\n",
       "    </tr>\n",
       "    <tr>\n",
       "      <th>10605</th>\n",
       "      <td>cape verde</td>\n",
       "      <td>2000</td>\n",
       "      <td>CPV</td>\n",
       "      <td>GDP growth (annual %)</td>\n",
       "      <td>NY.GDP.MKTP.KD.ZG</td>\n",
       "      <td>14.284869</td>\n",
       "    </tr>\n",
       "    <tr>\n",
       "      <th>10718</th>\n",
       "      <td>myanmar</td>\n",
       "      <td>2000</td>\n",
       "      <td>MMR</td>\n",
       "      <td>GDP growth (annual %)</td>\n",
       "      <td>NY.GDP.MKTP.KD.ZG</td>\n",
       "      <td>13.745931</td>\n",
       "    </tr>\n",
       "    <tr>\n",
       "      <th>10584</th>\n",
       "      <td>belize</td>\n",
       "      <td>2000</td>\n",
       "      <td>BLZ</td>\n",
       "      <td>GDP growth (annual %)</td>\n",
       "      <td>NY.GDP.MKTP.KD.ZG</td>\n",
       "      <td>13.019577</td>\n",
       "    </tr>\n",
       "    <tr>\n",
       "      <th>10573</th>\n",
       "      <td>azerbaijan</td>\n",
       "      <td>2000</td>\n",
       "      <td>AZE</td>\n",
       "      <td>GDP growth (annual %)</td>\n",
       "      <td>NY.GDP.MKTP.KD.ZG</td>\n",
       "      <td>11.099999</td>\n",
       "    </tr>\n",
       "  </tbody>\n",
       "</table>\n",
       "</div>"
      ],
      "text/plain": [
       "                 Country  Year Country Code         Indicator Name  \\\n",
       "10646  equatorial guinea  2000          GNQ  GDP growth (annual %)   \n",
       "10605         cape verde  2000          CPV  GDP growth (annual %)   \n",
       "10718            myanmar  2000          MMR  GDP growth (annual %)   \n",
       "10584             belize  2000          BLZ  GDP growth (annual %)   \n",
       "10573         azerbaijan  2000          AZE  GDP growth (annual %)   \n",
       "\n",
       "          Indicator Code        PIB  \n",
       "10646  NY.GDP.MKTP.KD.ZG  18.213780  \n",
       "10605  NY.GDP.MKTP.KD.ZG  14.284869  \n",
       "10718  NY.GDP.MKTP.KD.ZG  13.745931  \n",
       "10584  NY.GDP.MKTP.KD.ZG  13.019577  \n",
       "10573  NY.GDP.MKTP.KD.ZG  11.099999  "
      ]
     },
     "execution_count": 12,
     "metadata": {},
     "output_type": "execute_result"
    }
   ],
   "source": [
    "year = input (\"Please select year you'd like to analyze PIB: \").lower()\n",
    "df_top_country_pib = df_pib[df_pib['Year'] == int(year)]\n",
    "df_top_country_pib = df_top_country_pib.sort_values(by=['PIB'], ascending=False)\n",
    "df_top_country_pib.head(5)"
   ]
  },
  {
   "cell_type": "markdown",
   "metadata": {},
   "source": [
    "# Showing information about PIB "
   ]
  },
  {
   "cell_type": "code",
   "execution_count": 13,
   "metadata": {},
   "outputs": [
    {
     "name": "stdout",
     "output_type": "stream",
     "text": [
      "Please type the country you would like to analyze: mexico\n"
     ]
    },
    {
     "data": {
      "image/png": "[encoded data removed]",
      "text/plain": [
       "<Figure size 432x288 with 1 Axes>"
      ]
     },
     "metadata": {
      "needs_background": "light"
     },
     "output_type": "display_data"
    }
   ],
   "source": [
    "country = input (\"Please type the country you would like to analyze: \").lower()\n",
    "country_plt = df_pib[df_pib['Country'] == country]\n",
    "plt.plot(country_plt['Year'], country_plt['PIB'], marker ='o', color='g', label=\"RATE OF PIB\",\n",
    "         linestyle='solid', linewidth=1, markersize=6 )\n",
    "plt.legend(loc=\"lower right\")\n",
    "plt.title(\"RATE OF PIB\")\n",
    "plt.xlabel(\"Years\")\n",
    "plt.ylabel(\"% PIB\")\n",
    "plt.grid(True)\n",
    "plt.show()"
   ]
  },
  {
   "cell_type": "code",
   "execution_count": null,
   "metadata": {},
   "outputs": [],
   "source": []
  }
 ],
 "metadata": {
  "kernelspec": {
   "display_name": "Python 3",
   "language": "python",
   "name": "python3"
  },
  "language_info": {
   "codemirror_mode": {
    "name": "ipython",
    "version": 3
   },
   "file_extension": ".py",
   "mimetype": "text/x-python",
   "name": "python",
   "nbconvert_exporter": "python",
   "pygments_lexer": "ipython3",
   "version": "3.7.1"
  }
 },
 "nbformat": 4,
 "nbformat_minor": 2
}
