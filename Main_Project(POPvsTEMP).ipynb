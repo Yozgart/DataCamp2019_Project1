{
 "cells": [
  {
   "cell_type": "code",
   "execution_count": 1,
   "metadata": {},
   "outputs": [],
   "source": [
    "import matplotlib.pyplot as plt\n",
    "import numpy as np\n",
    "import pandas as pd"
   ]
  },
  {
   "cell_type": "code",
   "execution_count": 2,
   "metadata": {
    "scrolled": true
   },
   "outputs": [],
   "source": [
    "Temp = './TEMP/Resources/Temperature2.csv'\n",
    "TempDf = pd.read_csv(Temp)\n",
    "\n",
    "Pop = './POP/Resources/pop.csv'\n",
    "PopDf = pd.read_csv(Pop)\n",
    "\n",
    "PopDf.rename(columns={'Country Name':'Country', 'year':'Year'}, inplace=True)\n",
    "TempDf.rename(columns={'Country Name':'Country', 'year':'Year'}, inplace=True)"
   ]
  },
  {
   "cell_type": "code",
   "execution_count": 3,
   "metadata": {},
   "outputs": [
    {
     "data": {
      "text/html": [
       "<div>\n",
       "<style scoped>\n",
       "    .dataframe tbody tr th:only-of-type {\n",
       "        vertical-align: middle;\n",
       "    }\n",
       "\n",
       "    .dataframe tbody tr th {\n",
       "        vertical-align: top;\n",
       "    }\n",
       "\n",
       "    .dataframe thead th {\n",
       "        text-align: right;\n",
       "    }\n",
       "</style>\n",
       "<table border=\"1\" class=\"dataframe\">\n",
       "  <thead>\n",
       "    <tr style=\"text-align: right;\">\n",
       "      <th></th>\n",
       "      <th>Country</th>\n",
       "      <th>Year</th>\n",
       "      <th>Indicator Code</th>\n",
       "      <th>Indicator Name</th>\n",
       "      <th>Country Code</th>\n",
       "      <th>POP</th>\n",
       "    </tr>\n",
       "  </thead>\n",
       "  <tbody>\n",
       "    <tr>\n",
       "      <th>0</th>\n",
       "      <td>aruba</td>\n",
       "      <td>1960</td>\n",
       "      <td>SP.POP.GROW</td>\n",
       "      <td>Population growth (annual %)</td>\n",
       "      <td>ABW</td>\n",
       "      <td>3.148037</td>\n",
       "    </tr>\n",
       "    <tr>\n",
       "      <th>1</th>\n",
       "      <td>afghanistan</td>\n",
       "      <td>1960</td>\n",
       "      <td>SP.POP.GROW</td>\n",
       "      <td>Population growth (annual %)</td>\n",
       "      <td>AFG</td>\n",
       "      <td>1.816077</td>\n",
       "    </tr>\n",
       "    <tr>\n",
       "      <th>2</th>\n",
       "      <td>angola</td>\n",
       "      <td>1960</td>\n",
       "      <td>SP.POP.GROW</td>\n",
       "      <td>Population growth (annual %)</td>\n",
       "      <td>AGO</td>\n",
       "      <td>1.903517</td>\n",
       "    </tr>\n",
       "    <tr>\n",
       "      <th>3</th>\n",
       "      <td>albania</td>\n",
       "      <td>1960</td>\n",
       "      <td>SP.POP.GROW</td>\n",
       "      <td>Population growth (annual %)</td>\n",
       "      <td>ALB</td>\n",
       "      <td>3.015423</td>\n",
       "    </tr>\n",
       "    <tr>\n",
       "      <th>4</th>\n",
       "      <td>andorra</td>\n",
       "      <td>1960</td>\n",
       "      <td>SP.POP.GROW</td>\n",
       "      <td>Population growth (annual %)</td>\n",
       "      <td>AND</td>\n",
       "      <td>7.050663</td>\n",
       "    </tr>\n",
       "  </tbody>\n",
       "</table>\n",
       "</div>"
      ],
      "text/plain": [
       "       Country  Year Indicator Code                Indicator Name  \\\n",
       "0        aruba  1960    SP.POP.GROW  Population growth (annual %)   \n",
       "1  afghanistan  1960    SP.POP.GROW  Population growth (annual %)   \n",
       "2       angola  1960    SP.POP.GROW  Population growth (annual %)   \n",
       "3      albania  1960    SP.POP.GROW  Population growth (annual %)   \n",
       "4      andorra  1960    SP.POP.GROW  Population growth (annual %)   \n",
       "\n",
       "  Country Code       POP  \n",
       "0          ABW  3.148037  \n",
       "1          AFG  1.816077  \n",
       "2          AGO  1.903517  \n",
       "3          ALB  3.015423  \n",
       "4          AND  7.050663  "
      ]
     },
     "execution_count": 3,
     "metadata": {},
     "output_type": "execute_result"
    }
   ],
   "source": [
    "PopDf.head()"
   ]
  },
  {
   "cell_type": "code",
   "execution_count": 4,
   "metadata": {},
   "outputs": [
    {
     "data": {
      "text/html": [
       "<div>\n",
       "<style scoped>\n",
       "    .dataframe tbody tr th:only-of-type {\n",
       "        vertical-align: middle;\n",
       "    }\n",
       "\n",
       "    .dataframe tbody tr th {\n",
       "        vertical-align: top;\n",
       "    }\n",
       "\n",
       "    .dataframe thead th {\n",
       "        text-align: right;\n",
       "    }\n",
       "</style>\n",
       "<table border=\"1\" class=\"dataframe\">\n",
       "  <thead>\n",
       "    <tr style=\"text-align: right;\">\n",
       "      <th></th>\n",
       "      <th>Unnamed: 0</th>\n",
       "      <th>Country</th>\n",
       "      <th>Year</th>\n",
       "      <th>AverageTemperature</th>\n",
       "      <th>Standard Deviation</th>\n",
       "    </tr>\n",
       "  </thead>\n",
       "  <tbody>\n",
       "    <tr>\n",
       "      <th>0</th>\n",
       "      <td>0</td>\n",
       "      <td>afghanistan</td>\n",
       "      <td>1960</td>\n",
       "      <td>15.051182</td>\n",
       "      <td>8.919992</td>\n",
       "    </tr>\n",
       "    <tr>\n",
       "      <th>1</th>\n",
       "      <td>1</td>\n",
       "      <td>afghanistan</td>\n",
       "      <td>1961</td>\n",
       "      <td>14.064917</td>\n",
       "      <td>9.684162</td>\n",
       "    </tr>\n",
       "    <tr>\n",
       "      <th>2</th>\n",
       "      <td>2</td>\n",
       "      <td>afghanistan</td>\n",
       "      <td>1962</td>\n",
       "      <td>13.768667</td>\n",
       "      <td>9.143732</td>\n",
       "    </tr>\n",
       "    <tr>\n",
       "      <th>3</th>\n",
       "      <td>3</td>\n",
       "      <td>afghanistan</td>\n",
       "      <td>1963</td>\n",
       "      <td>15.033417</td>\n",
       "      <td>8.857023</td>\n",
       "    </tr>\n",
       "    <tr>\n",
       "      <th>4</th>\n",
       "      <td>4</td>\n",
       "      <td>afghanistan</td>\n",
       "      <td>1964</td>\n",
       "      <td>13.084917</td>\n",
       "      <td>10.401564</td>\n",
       "    </tr>\n",
       "  </tbody>\n",
       "</table>\n",
       "</div>"
      ],
      "text/plain": [
       "   Unnamed: 0      Country  Year  AverageTemperature  Standard Deviation\n",
       "0           0  afghanistan  1960           15.051182            8.919992\n",
       "1           1  afghanistan  1961           14.064917            9.684162\n",
       "2           2  afghanistan  1962           13.768667            9.143732\n",
       "3           3  afghanistan  1963           15.033417            8.857023\n",
       "4           4  afghanistan  1964           13.084917           10.401564"
      ]
     },
     "execution_count": 4,
     "metadata": {},
     "output_type": "execute_result"
    }
   ],
   "source": [
    "TempDf.head()"
   ]
  },
  {
   "cell_type": "code",
   "execution_count": 5,
   "metadata": {},
   "outputs": [],
   "source": [
    "TempPop = pd.merge(TempDf,PopDf,how='left', left_on=['Country','Year'],right_on=['Country','Year'])"
   ]
  },
  {
   "cell_type": "code",
   "execution_count": 6,
   "metadata": {},
   "outputs": [
    {
     "data": {
      "text/html": [
       "<div>\n",
       "<style scoped>\n",
       "    .dataframe tbody tr th:only-of-type {\n",
       "        vertical-align: middle;\n",
       "    }\n",
       "\n",
       "    .dataframe tbody tr th {\n",
       "        vertical-align: top;\n",
       "    }\n",
       "\n",
       "    .dataframe thead th {\n",
       "        text-align: right;\n",
       "    }\n",
       "</style>\n",
       "<table border=\"1\" class=\"dataframe\">\n",
       "  <thead>\n",
       "    <tr style=\"text-align: right;\">\n",
       "      <th></th>\n",
       "      <th>Unnamed: 0</th>\n",
       "      <th>Country</th>\n",
       "      <th>Year</th>\n",
       "      <th>AverageTemperature</th>\n",
       "      <th>Standard Deviation</th>\n",
       "      <th>Indicator Code</th>\n",
       "      <th>Indicator Name</th>\n",
       "      <th>Country Code</th>\n",
       "      <th>POP</th>\n",
       "    </tr>\n",
       "  </thead>\n",
       "  <tbody>\n",
       "    <tr>\n",
       "      <th>0</th>\n",
       "      <td>0</td>\n",
       "      <td>afghanistan</td>\n",
       "      <td>1960</td>\n",
       "      <td>15.051182</td>\n",
       "      <td>8.919992</td>\n",
       "      <td>SP.POP.GROW</td>\n",
       "      <td>Population growth (annual %)</td>\n",
       "      <td>AFG</td>\n",
       "      <td>1.816077</td>\n",
       "    </tr>\n",
       "    <tr>\n",
       "      <th>1</th>\n",
       "      <td>1</td>\n",
       "      <td>afghanistan</td>\n",
       "      <td>1961</td>\n",
       "      <td>14.064917</td>\n",
       "      <td>9.684162</td>\n",
       "      <td>SP.POP.GROW</td>\n",
       "      <td>Population growth (annual %)</td>\n",
       "      <td>AFG</td>\n",
       "      <td>1.876528</td>\n",
       "    </tr>\n",
       "    <tr>\n",
       "      <th>2</th>\n",
       "      <td>2</td>\n",
       "      <td>afghanistan</td>\n",
       "      <td>1962</td>\n",
       "      <td>13.768667</td>\n",
       "      <td>9.143732</td>\n",
       "      <td>SP.POP.GROW</td>\n",
       "      <td>Population growth (annual %)</td>\n",
       "      <td>AFG</td>\n",
       "      <td>1.934999</td>\n",
       "    </tr>\n",
       "    <tr>\n",
       "      <th>3</th>\n",
       "      <td>3</td>\n",
       "      <td>afghanistan</td>\n",
       "      <td>1963</td>\n",
       "      <td>15.033417</td>\n",
       "      <td>8.857023</td>\n",
       "      <td>SP.POP.GROW</td>\n",
       "      <td>Population growth (annual %)</td>\n",
       "      <td>AFG</td>\n",
       "      <td>1.992521</td>\n",
       "    </tr>\n",
       "    <tr>\n",
       "      <th>4</th>\n",
       "      <td>4</td>\n",
       "      <td>afghanistan</td>\n",
       "      <td>1964</td>\n",
       "      <td>13.084917</td>\n",
       "      <td>10.401564</td>\n",
       "      <td>SP.POP.GROW</td>\n",
       "      <td>Population growth (annual %)</td>\n",
       "      <td>AFG</td>\n",
       "      <td>2.049423</td>\n",
       "    </tr>\n",
       "  </tbody>\n",
       "</table>\n",
       "</div>"
      ],
      "text/plain": [
       "   Unnamed: 0      Country  Year  AverageTemperature  Standard Deviation  \\\n",
       "0           0  afghanistan  1960           15.051182            8.919992   \n",
       "1           1  afghanistan  1961           14.064917            9.684162   \n",
       "2           2  afghanistan  1962           13.768667            9.143732   \n",
       "3           3  afghanistan  1963           15.033417            8.857023   \n",
       "4           4  afghanistan  1964           13.084917           10.401564   \n",
       "\n",
       "  Indicator Code                Indicator Name Country Code       POP  \n",
       "0    SP.POP.GROW  Population growth (annual %)          AFG  1.816077  \n",
       "1    SP.POP.GROW  Population growth (annual %)          AFG  1.876528  \n",
       "2    SP.POP.GROW  Population growth (annual %)          AFG  1.934999  \n",
       "3    SP.POP.GROW  Population growth (annual %)          AFG  1.992521  \n",
       "4    SP.POP.GROW  Population growth (annual %)          AFG  2.049423  "
      ]
     },
     "execution_count": 6,
     "metadata": {},
     "output_type": "execute_result"
    }
   ],
   "source": [
    "TempPop.head()"
   ]
  },
  {
   "cell_type": "code",
   "execution_count": 9,
   "metadata": {},
   "outputs": [
    {
     "name": "stdout",
     "output_type": "stream",
     "text": [
      "Please type the country you would like to analyze: mexico\n"
     ]
    },
    {
     "data": {
      "image/png": "[encoded data removed]",
      "text/plain": [
       "<Figure size 432x288 with 2 Axes>"
      ]
     },
     "metadata": {
      "needs_background": "light"
     },
     "output_type": "display_data"
    }
   ],
   "source": [
    "Country = input (\"Please type the country you would like to analyze: \").lower()\n",
    "\n",
    "CountryPlt = TempPop[TempPop['Country'] == Country]\n",
    "\n",
    "fig, ax1 = plt.subplots()\n",
    "ax2 = ax1.twinx()\n",
    "\n",
    "TempY, = ax1.plot(CountryPlt['Year'], CountryPlt['AverageTemperature'], color=\"blue\", label=\"Average Temperature\")\n",
    "PopY, = ax2.plot(CountryPlt['Year'], CountryPlt['POP'], color=\"green\",label='Population')\n",
    "\n",
    "plt.title(\"Temperature & Population\")\n",
    "ax1.set_ylabel('Temperature', color='b')\n",
    "ax2.set_ylabel('Population Growth (annual %)', color='green')\n",
    "plt.grid(True)\n",
    "\n",
    "plt.legend(handles=[TempY, PopY], loc=\"lower right\")\n",
    "\n",
    "plt.savefig(\"./Images/Temperature&Population.png\")\n",
    "plt.show()"
   ]
  },
  {
   "cell_type": "code",
   "execution_count": null,
   "metadata": {},
   "outputs": [],
   "source": []
  }
 ],
 "metadata": {
  "kernelspec": {
   "display_name": "Python 3",
   "language": "python",
   "name": "python3"
  },
  "language_info": {
   "codemirror_mode": {
    "name": "ipython",
    "version": 3
   },
   "file_extension": ".py",
   "mimetype": "text/x-python",
   "name": "python",
   "nbconvert_exporter": "python",
   "pygments_lexer": "ipython3",
   "version": "3.6.7"
  }
 },
 "nbformat": 4,
 "nbformat_minor": 2
}
